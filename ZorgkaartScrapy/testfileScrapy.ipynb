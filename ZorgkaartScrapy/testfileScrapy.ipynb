{
 "cells": [
  {
   "cell_type": "code",
   "execution_count": 1,
   "id": "2e6abb25",
   "metadata": {},
   "outputs": [],
   "source": [
    "import json\n",
    "import pandas as pd\n",
    "from pathlib import Path"
   ]
  },
  {
   "cell_type": "code",
   "execution_count": 2,
   "id": "8bd985c2",
   "metadata": {},
   "outputs": [],
   "source": [
    "FILE_PATH = Path(\"data/zorgkaart_types_input.json\")"
   ]
  },
  {
   "cell_type": "code",
   "execution_count": null,
   "id": "b28f46ed",
   "metadata": {},
   "outputs": [],
   "source": [
    "with open(FILE )"
   ]
  }
 ],
 "metadata": {
  "kernelspec": {
   "display_name": "Python 3",
   "language": "python",
   "name": "python3"
  },
  "language_info": {
   "codemirror_mode": {
    "name": "ipython",
    "version": 3
   },
   "file_extension": ".py",
   "mimetype": "text/x-python",
   "name": "python",
   "nbconvert_exporter": "python",
   "pygments_lexer": "ipython3",
   "version": "3.12.6"
  }
 },
 "nbformat": 4,
 "nbformat_minor": 5
}
