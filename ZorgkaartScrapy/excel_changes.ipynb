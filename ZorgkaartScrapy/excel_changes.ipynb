{
 "cells": [
  {
   "cell_type": "code",
   "execution_count": 26,
   "id": "c60ef3ff",
   "metadata": {},
   "outputs": [],
   "source": [
    "import numpy as np\n",
    "import pandas as pd\n",
    "from pathlib import Path"
   ]
  },
  {
   "cell_type": "code",
   "execution_count": 27,
   "id": "96e39e0b",
   "metadata": {},
   "outputs": [],
   "source": [
    "PATH_FILE_DATA: Path = Path(\"exports/zorgkaart_details.xlsx\")\n",
    "PATH_FILE_GEM: Path = Path(\"../20250625 - GemeenteNamen.xlsx\")\n",
    "PATH_FILE_OUTPUT: Path = Path(\"../20250625 - Data Zorgkaart.xlsx\")"
   ]
  },
  {
   "cell_type": "code",
   "execution_count": 28,
   "id": "96b86edc",
   "metadata": {},
   "outputs": [],
   "source": [
    "df = pd.read_excel(PATH_FILE_DATA)"
   ]
  },
  {
   "cell_type": "code",
   "execution_count": 29,
   "id": "1e546774",
   "metadata": {},
   "outputs": [],
   "source": [
    "gem_df = pd.read_excel(PATH_FILE_GEM)"
   ]
  },
  {
   "cell_type": "code",
   "execution_count": 30,
   "id": "0e867ccd",
   "metadata": {},
   "outputs": [
    {
     "data": {
      "application/vnd.microsoft.datawrangler.viewer.v0+json": {
       "columns": [
        {
         "name": "index",
         "rawType": "int64",
         "type": "integer"
        },
        {
         "name": "Id",
         "rawType": "int64",
         "type": "integer"
        },
        {
         "name": "Measure",
         "rawType": "object",
         "type": "string"
        },
        {
         "name": "Woonplaatsen",
         "rawType": "object",
         "type": "string"
        },
        {
         "name": "Value",
         "rawType": "object",
         "type": "string"
        },
        {
         "name": "StringValue",
         "rawType": "object",
         "type": "string"
        }
       ],
       "ref": "2f66fc26-16d2-40d2-8001-d8109056a0f8",
       "rows": [
        [
         "2523",
         "11621",
         "GM000C",
         "WP1262",
         "’s-Heer Abtskerke",
         "Borsele                            "
        ],
        [
         "2524",
         "12216",
         "GM000C",
         "WP1399",
         "Achterberg",
         "Rhenen                             "
        ],
        [
         "2525",
         "17172",
         "GM000C",
         "WP3385",
         "Buren",
         "Buren                              "
        ],
        [
         "2526",
         "3137",
         "GM000C",
         "WP2729",
         "Dronryp",
         "Waadhoeke                          "
        ],
        [
         "2527",
         "9213",
         "GM000C",
         "WP3402",
         "Metslawier",
         "Noardeast-Fryslân                  "
        ]
       ],
       "shape": {
        "columns": 5,
        "rows": 5
       }
      },
      "text/html": [
       "<div>\n",
       "<style scoped>\n",
       "    .dataframe tbody tr th:only-of-type {\n",
       "        vertical-align: middle;\n",
       "    }\n",
       "\n",
       "    .dataframe tbody tr th {\n",
       "        vertical-align: top;\n",
       "    }\n",
       "\n",
       "    .dataframe thead th {\n",
       "        text-align: right;\n",
       "    }\n",
       "</style>\n",
       "<table border=\"1\" class=\"dataframe\">\n",
       "  <thead>\n",
       "    <tr style=\"text-align: right;\">\n",
       "      <th></th>\n",
       "      <th>Id</th>\n",
       "      <th>Measure</th>\n",
       "      <th>Woonplaatsen</th>\n",
       "      <th>Value</th>\n",
       "      <th>StringValue</th>\n",
       "    </tr>\n",
       "  </thead>\n",
       "  <tbody>\n",
       "    <tr>\n",
       "      <th>2523</th>\n",
       "      <td>11621</td>\n",
       "      <td>GM000C</td>\n",
       "      <td>WP1262</td>\n",
       "      <td>’s-Heer Abtskerke</td>\n",
       "      <td>Borsele</td>\n",
       "    </tr>\n",
       "    <tr>\n",
       "      <th>2524</th>\n",
       "      <td>12216</td>\n",
       "      <td>GM000C</td>\n",
       "      <td>WP1399</td>\n",
       "      <td>Achterberg</td>\n",
       "      <td>Rhenen</td>\n",
       "    </tr>\n",
       "    <tr>\n",
       "      <th>2525</th>\n",
       "      <td>17172</td>\n",
       "      <td>GM000C</td>\n",
       "      <td>WP3385</td>\n",
       "      <td>Buren</td>\n",
       "      <td>Buren</td>\n",
       "    </tr>\n",
       "    <tr>\n",
       "      <th>2526</th>\n",
       "      <td>3137</td>\n",
       "      <td>GM000C</td>\n",
       "      <td>WP2729</td>\n",
       "      <td>Dronryp</td>\n",
       "      <td>Waadhoeke</td>\n",
       "    </tr>\n",
       "    <tr>\n",
       "      <th>2527</th>\n",
       "      <td>9213</td>\n",
       "      <td>GM000C</td>\n",
       "      <td>WP3402</td>\n",
       "      <td>Metslawier</td>\n",
       "      <td>Noardeast-Fryslân</td>\n",
       "    </tr>\n",
       "  </tbody>\n",
       "</table>\n",
       "</div>"
      ],
      "text/plain": [
       "         Id Measure Woonplaatsen              Value  \\\n",
       "2523  11621  GM000C       WP1262  ’s-Heer Abtskerke   \n",
       "2524  12216  GM000C       WP1399         Achterberg   \n",
       "2525  17172  GM000C       WP3385              Buren   \n",
       "2526   3137  GM000C       WP2729            Dronryp   \n",
       "2527   9213  GM000C       WP3402         Metslawier   \n",
       "\n",
       "                              StringValue  \n",
       "2523  Borsele                              \n",
       "2524  Rhenen                               \n",
       "2525  Buren                                \n",
       "2526  Waadhoeke                            \n",
       "2527  Noardeast-Fryslân                    "
      ]
     },
     "execution_count": 30,
     "metadata": {},
     "output_type": "execute_result"
    }
   ],
   "source": [
    "gem_df.tail(5)"
   ]
  },
  {
   "cell_type": "markdown",
   "id": "ccb40756",
   "metadata": {},
   "source": [
    "# Plaatsnaam Bergen veranderen"
   ]
  },
  {
   "cell_type": "code",
   "execution_count": 31,
   "id": "0c72fc08",
   "metadata": {},
   "outputs": [],
   "source": [
    "df.loc[df['plaats'] == 'Bergen', 'plaats'] = df.loc[df['plaats'] == 'Bergen'].apply(\n",
    "    lambda row: 'Bergen (NH)' if str(row['postcode']).startswith('18') else 'Bergen L',\n",
    "    axis=1\n",
    ")"
   ]
  },
  {
   "cell_type": "markdown",
   "id": "4b5ef62e",
   "metadata": {},
   "source": [
    "# Toevoegen GemeenteNamen"
   ]
  },
  {
   "cell_type": "code",
   "execution_count": 32,
   "id": "5a6f1a49",
   "metadata": {},
   "outputs": [],
   "source": [
    "df = df.merge(\n",
    "    gem_df[['Value', 'StringValue']],\n",
    "    left_on='plaats',\n",
    "    right_on='Value',\n",
    "    how='left'\n",
    ")"
   ]
  },
  {
   "cell_type": "code",
   "execution_count": 33,
   "id": "0ba6a6dd",
   "metadata": {},
   "outputs": [],
   "source": [
    "df.rename(columns={'StringValue': 'GemeenteNaam'}, inplace=True)"
   ]
  },
  {
   "cell_type": "code",
   "execution_count": 34,
   "id": "fed20d4f",
   "metadata": {},
   "outputs": [],
   "source": [
    "df.drop(columns=['Value'], inplace=True)"
   ]
  },
  {
   "cell_type": "code",
   "execution_count": 35,
   "id": "64dda0d9",
   "metadata": {},
   "outputs": [
    {
     "data": {
      "application/vnd.microsoft.datawrangler.viewer.v0+json": {
       "columns": [
        {
         "name": "index",
         "rawType": "int64",
         "type": "integer"
        },
        {
         "name": "organisatietype",
         "rawType": "object",
         "type": "string"
        },
        {
         "name": "naam",
         "rawType": "object",
         "type": "string"
        },
        {
         "name": "url",
         "rawType": "object",
         "type": "string"
        },
        {
         "name": "straat",
         "rawType": "object",
         "type": "string"
        },
        {
         "name": "huisnummer",
         "rawType": "float64",
         "type": "float"
        },
        {
         "name": "toevoeging",
         "rawType": "object",
         "type": "unknown"
        },
        {
         "name": "postcode",
         "rawType": "object",
         "type": "string"
        },
        {
         "name": "plaats",
         "rawType": "object",
         "type": "string"
        },
        {
         "name": "scraped_at",
         "rawType": "datetime64[ns]",
         "type": "datetime"
        },
        {
         "name": "GemeenteNaam",
         "rawType": "object",
         "type": "string"
        }
       ],
       "ref": "1102a9e3-094a-434a-bae4-ad0639b95c23",
       "rows": [
        [
         "1047",
         "Verpleeghuis en verzorgingshuis",
         "QuaRijn, De Linde",
         "https://www.zorgkaartnederland.nl/zorginstelling/verpleeghuis-en-verzorgingshuis-quarijn-de-linde-achterberg-10015768",
         "De Grote Akker",
         "22.0",
         null,
         "3911XS",
         "Achterberg",
         "2025-05-28 00:00:00",
         "Rhenen                             "
        ],
        [
         "26727",
         "(Medisch) Pedicurepraktijk",
         "Cura Piedi",
         "https://www.zorgkaartnederland.nl/zorginstelling/medisch-pedicurepraktijk-cura-piedi-achterberg-10080694",
         "De Horst",
         "61.0",
         null,
         "3911SX",
         "Achterberg",
         "2025-06-10 00:00:00",
         "Rhenen                             "
        ]
       ],
       "shape": {
        "columns": 10,
        "rows": 2
       }
      },
      "text/html": [
       "<div>\n",
       "<style scoped>\n",
       "    .dataframe tbody tr th:only-of-type {\n",
       "        vertical-align: middle;\n",
       "    }\n",
       "\n",
       "    .dataframe tbody tr th {\n",
       "        vertical-align: top;\n",
       "    }\n",
       "\n",
       "    .dataframe thead th {\n",
       "        text-align: right;\n",
       "    }\n",
       "</style>\n",
       "<table border=\"1\" class=\"dataframe\">\n",
       "  <thead>\n",
       "    <tr style=\"text-align: right;\">\n",
       "      <th></th>\n",
       "      <th>organisatietype</th>\n",
       "      <th>naam</th>\n",
       "      <th>url</th>\n",
       "      <th>straat</th>\n",
       "      <th>huisnummer</th>\n",
       "      <th>toevoeging</th>\n",
       "      <th>postcode</th>\n",
       "      <th>plaats</th>\n",
       "      <th>scraped_at</th>\n",
       "      <th>GemeenteNaam</th>\n",
       "    </tr>\n",
       "  </thead>\n",
       "  <tbody>\n",
       "    <tr>\n",
       "      <th>1047</th>\n",
       "      <td>Verpleeghuis en verzorgingshuis</td>\n",
       "      <td>QuaRijn, De Linde</td>\n",
       "      <td>https://www.zorgkaartnederland.nl/zorginstelli...</td>\n",
       "      <td>De Grote Akker</td>\n",
       "      <td>22.0</td>\n",
       "      <td>NaN</td>\n",
       "      <td>3911XS</td>\n",
       "      <td>Achterberg</td>\n",
       "      <td>2025-05-28</td>\n",
       "      <td>Rhenen</td>\n",
       "    </tr>\n",
       "    <tr>\n",
       "      <th>26727</th>\n",
       "      <td>(Medisch) Pedicurepraktijk</td>\n",
       "      <td>Cura Piedi</td>\n",
       "      <td>https://www.zorgkaartnederland.nl/zorginstelli...</td>\n",
       "      <td>De Horst</td>\n",
       "      <td>61.0</td>\n",
       "      <td>NaN</td>\n",
       "      <td>3911SX</td>\n",
       "      <td>Achterberg</td>\n",
       "      <td>2025-06-10</td>\n",
       "      <td>Rhenen</td>\n",
       "    </tr>\n",
       "  </tbody>\n",
       "</table>\n",
       "</div>"
      ],
      "text/plain": [
       "                       organisatietype               naam  \\\n",
       "1047   Verpleeghuis en verzorgingshuis  QuaRijn, De Linde   \n",
       "26727       (Medisch) Pedicurepraktijk         Cura Piedi   \n",
       "\n",
       "                                                     url          straat  \\\n",
       "1047   https://www.zorgkaartnederland.nl/zorginstelli...  De Grote Akker   \n",
       "26727  https://www.zorgkaartnederland.nl/zorginstelli...        De Horst   \n",
       "\n",
       "       huisnummer toevoeging postcode      plaats scraped_at  \\\n",
       "1047         22.0        NaN   3911XS  Achterberg 2025-05-28   \n",
       "26727        61.0        NaN   3911SX  Achterberg 2025-06-10   \n",
       "\n",
       "                              GemeenteNaam  \n",
       "1047   Rhenen                               \n",
       "26727  Rhenen                               "
      ]
     },
     "execution_count": 35,
     "metadata": {},
     "output_type": "execute_result"
    }
   ],
   "source": [
    "df[df['plaats'] == 'Achterberg']"
   ]
  },
  {
   "cell_type": "code",
   "execution_count": 36,
   "id": "ce206411",
   "metadata": {},
   "outputs": [
    {
     "data": {
      "application/vnd.microsoft.datawrangler.viewer.v0+json": {
       "columns": [
        {
         "name": "index",
         "rawType": "int64",
         "type": "integer"
        },
        {
         "name": "organisatietype",
         "rawType": "object",
         "type": "string"
        },
        {
         "name": "naam",
         "rawType": "object",
         "type": "string"
        },
        {
         "name": "url",
         "rawType": "object",
         "type": "string"
        },
        {
         "name": "straat",
         "rawType": "object",
         "type": "string"
        },
        {
         "name": "huisnummer",
         "rawType": "float64",
         "type": "float"
        },
        {
         "name": "toevoeging",
         "rawType": "object",
         "type": "unknown"
        },
        {
         "name": "postcode",
         "rawType": "object",
         "type": "string"
        },
        {
         "name": "plaats",
         "rawType": "object",
         "type": "string"
        },
        {
         "name": "scraped_at",
         "rawType": "datetime64[ns]",
         "type": "datetime"
        },
        {
         "name": "GemeenteNaam",
         "rawType": "object",
         "type": "unknown"
        }
       ],
       "ref": "8cdafbb9-1430-48a4-b7ca-1d0d08e9f943",
       "rows": [
        [
         "41824",
         "Psychologiepraktijk en psychotherapiepraktijk",
         "Praktijk Christel Grieten",
         "https://www.zorgkaartnederland.nl/zorginstelling/psychologiepraktijk-en-psychotherapiepraktijk-praktijk-christel-grieten-geel-be-10026178",
         "Mosselgoren",
         "149.0",
         null,
         "2440",
         "Geel (BE)",
         "2025-06-10 00:00:00",
         null
        ]
       ],
       "shape": {
        "columns": 10,
        "rows": 1
       }
      },
      "text/html": [
       "<div>\n",
       "<style scoped>\n",
       "    .dataframe tbody tr th:only-of-type {\n",
       "        vertical-align: middle;\n",
       "    }\n",
       "\n",
       "    .dataframe tbody tr th {\n",
       "        vertical-align: top;\n",
       "    }\n",
       "\n",
       "    .dataframe thead th {\n",
       "        text-align: right;\n",
       "    }\n",
       "</style>\n",
       "<table border=\"1\" class=\"dataframe\">\n",
       "  <thead>\n",
       "    <tr style=\"text-align: right;\">\n",
       "      <th></th>\n",
       "      <th>organisatietype</th>\n",
       "      <th>naam</th>\n",
       "      <th>url</th>\n",
       "      <th>straat</th>\n",
       "      <th>huisnummer</th>\n",
       "      <th>toevoeging</th>\n",
       "      <th>postcode</th>\n",
       "      <th>plaats</th>\n",
       "      <th>scraped_at</th>\n",
       "      <th>GemeenteNaam</th>\n",
       "    </tr>\n",
       "  </thead>\n",
       "  <tbody>\n",
       "    <tr>\n",
       "      <th>41824</th>\n",
       "      <td>Psychologiepraktijk en psychotherapiepraktijk</td>\n",
       "      <td>Praktijk Christel Grieten</td>\n",
       "      <td>https://www.zorgkaartnederland.nl/zorginstelli...</td>\n",
       "      <td>Mosselgoren</td>\n",
       "      <td>149.0</td>\n",
       "      <td>NaN</td>\n",
       "      <td>2440</td>\n",
       "      <td>Geel (BE)</td>\n",
       "      <td>2025-06-10</td>\n",
       "      <td>NaN</td>\n",
       "    </tr>\n",
       "  </tbody>\n",
       "</table>\n",
       "</div>"
      ],
      "text/plain": [
       "                                     organisatietype  \\\n",
       "41824  Psychologiepraktijk en psychotherapiepraktijk   \n",
       "\n",
       "                            naam  \\\n",
       "41824  Praktijk Christel Grieten   \n",
       "\n",
       "                                                     url       straat  \\\n",
       "41824  https://www.zorgkaartnederland.nl/zorginstelli...  Mosselgoren   \n",
       "\n",
       "       huisnummer toevoeging postcode     plaats scraped_at GemeenteNaam  \n",
       "41824       149.0        NaN     2440  Geel (BE) 2025-06-10          NaN  "
      ]
     },
     "execution_count": 36,
     "metadata": {},
     "output_type": "execute_result"
    }
   ],
   "source": [
    "df[df['GemeenteNaam'].isna()]"
   ]
  },
  {
   "cell_type": "markdown",
   "id": "c13023db",
   "metadata": {},
   "source": [
    "# Dataframe back to Excel"
   ]
  },
  {
   "cell_type": "code",
   "execution_count": 37,
   "id": "30198e88",
   "metadata": {},
   "outputs": [],
   "source": [
    "df.to_excel(PATH_FILE_OUTPUT, index=False)"
   ]
  }
 ],
 "metadata": {
  "kernelspec": {
   "display_name": "Python 3",
   "language": "python",
   "name": "python3"
  },
  "language_info": {
   "codemirror_mode": {
    "name": "ipython",
    "version": 3
   },
   "file_extension": ".py",
   "mimetype": "text/x-python",
   "name": "python",
   "nbconvert_exporter": "python",
   "pygments_lexer": "ipython3",
   "version": "3.12.6"
  }
 },
 "nbformat": 4,
 "nbformat_minor": 5
}
