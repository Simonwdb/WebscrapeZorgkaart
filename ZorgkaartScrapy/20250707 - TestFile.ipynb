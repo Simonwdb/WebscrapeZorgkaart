{
 "cells": [
  {
   "cell_type": "code",
   "execution_count": 59,
   "id": "873e3769",
   "metadata": {},
   "outputs": [],
   "source": [
    "from pathlib import Path\n",
    "import pandas as pd\n",
    "import requests as re\n",
    "from bs4 import BeautifulSoup\n",
    "import json"
   ]
  },
  {
   "cell_type": "code",
   "execution_count": 68,
   "id": "b91c94b2",
   "metadata": {},
   "outputs": [],
   "source": [
    "DETAILS_PATH: Path = Path(\"data\\\\zorgkaart_details_update.json\")"
   ]
  },
  {
   "cell_type": "code",
   "execution_count": 69,
   "id": "20a3b8c3",
   "metadata": {},
   "outputs": [],
   "source": [
    "NUMBER_PATH: Path = Path(\"data\\\\zorgkaart_number.json\")"
   ]
  },
  {
   "cell_type": "code",
   "execution_count": 70,
   "id": "adf5013f",
   "metadata": {},
   "outputs": [],
   "source": [
    "with DETAILS_PATH.open(encoding='utf-8') as f:\n",
    "    details_data = json.load(f)"
   ]
  },
  {
   "cell_type": "code",
   "execution_count": 72,
   "id": "be0e68e1",
   "metadata": {},
   "outputs": [],
   "source": [
    "with NUMBER_PATH.open(encoding='utf-8') as f:\n",
    "    number_data = json.load(f)"
   ]
  },
  {
   "cell_type": "code",
   "execution_count": 73,
   "id": "e6ff515c",
   "metadata": {},
   "outputs": [
    {
     "data": {
      "text/plain": [
       "[{'organisatietype': 'Apotheek',\n",
       "  'base_url': 'https://www.zorgkaartnederland.nl/zorginstelling/apotheek-service-apotheek-greidanus-harderwijk-172701',\n",
       "  'job_title': 'Apotheker',\n",
       "  'specialisten_count': 2},\n",
       " {'organisatietype': 'Tandartsenpraktijk',\n",
       "  'base_url': 'https://www.zorgkaartnederland.nl/zorginstelling/tandartsenpraktijk-dental-clinics-maastricht-heerderrein-maastricht-3020915',\n",
       "  'job_title': 'Tandarts',\n",
       "  'specialisten_count': 3}]"
      ]
     },
     "execution_count": 73,
     "metadata": {},
     "output_type": "execute_result"
    }
   ],
   "source": [
    "number_data"
   ]
  }
 ],
 "metadata": {
  "kernelspec": {
   "display_name": "Python 3",
   "language": "python",
   "name": "python3"
  },
  "language_info": {
   "codemirror_mode": {
    "name": "ipython",
    "version": 3
   },
   "file_extension": ".py",
   "mimetype": "text/x-python",
   "name": "python",
   "nbconvert_exporter": "python",
   "pygments_lexer": "ipython3",
   "version": "3.12.6"
  }
 },
 "nbformat": 4,
 "nbformat_minor": 5
}
