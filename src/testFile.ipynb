{
 "cells": [
  {
   "cell_type": "code",
   "execution_count": 1,
   "id": "3be5f493",
   "metadata": {},
   "outputs": [],
   "source": [
    "%load_ext autoreload\n",
    "%autoreload 2\n"
   ]
  },
  {
   "cell_type": "code",
   "execution_count": 2,
   "id": "e2af3160",
   "metadata": {},
   "outputs": [],
   "source": [
    "from Webscrape import Webscrape"
   ]
  },
  {
   "cell_type": "code",
   "execution_count": 14,
   "id": "634ae704",
   "metadata": {},
   "outputs": [],
   "source": [
    "base_url = 'https://www.zorgkaartnederland.nl/'"
   ]
  },
  {
   "cell_type": "code",
   "execution_count": 15,
   "id": "90647196",
   "metadata": {},
   "outputs": [],
   "source": [
    "scrape = Webscrape(base_url=base_url)"
   ]
  },
  {
   "cell_type": "code",
   "execution_count": 16,
   "id": "d6a05939",
   "metadata": {},
   "outputs": [],
   "source": [
    "facility = 'tandartsenpraktijk'"
   ]
  },
  {
   "cell_type": "code",
   "execution_count": 17,
   "id": "5027e65f",
   "metadata": {},
   "outputs": [],
   "source": [
    "results = scrape.get_filter_result(facility=facility)"
   ]
  },
  {
   "cell_type": "code",
   "execution_count": 18,
   "id": "0971376a",
   "metadata": {},
   "outputs": [
    {
     "ename": "AttributeError",
     "evalue": "'Webscrape' object has no attribute 'get_filter_links'",
     "output_type": "error",
     "traceback": [
      "\u001b[1;31m---------------------------------------------------------------------------\u001b[0m",
      "\u001b[1;31mAttributeError\u001b[0m                            Traceback (most recent call last)",
      "Cell \u001b[1;32mIn[18], line 1\u001b[0m\n\u001b[1;32m----> 1\u001b[0m \u001b[43mscrape\u001b[49m\u001b[38;5;241;43m.\u001b[39;49m\u001b[43mget_filter_links\u001b[49m(results\u001b[38;5;241m=\u001b[39mresults)\n",
      "\u001b[1;31mAttributeError\u001b[0m: 'Webscrape' object has no attribute 'get_filter_links'"
     ]
    }
   ],
   "source": [
    "scrape.get_filter_links(results=results)"
   ]
  },
  {
   "cell_type": "markdown",
   "id": "72a98e57",
   "metadata": {},
   "source": [
    "## Debugging"
   ]
  },
  {
   "cell_type": "code",
   "execution_count": 3,
   "id": "c58a29c8",
   "metadata": {},
   "outputs": [],
   "source": [
    "test_url = 'https://www.zorgkaartnederland.nl/overzicht/organisatietypes'"
   ]
  },
  {
   "cell_type": "code",
   "execution_count": 4,
   "id": "a6fdcfba",
   "metadata": {},
   "outputs": [],
   "source": [
    "import requests\n",
    "from bs4 import BeautifulSoup"
   ]
  },
  {
   "cell_type": "code",
   "execution_count": 5,
   "id": "f678e6f1",
   "metadata": {},
   "outputs": [
    {
     "data": {
      "text/plain": [
       "200"
      ]
     },
     "execution_count": 5,
     "metadata": {},
     "output_type": "execute_result"
    }
   ],
   "source": [
    "response = requests.get(url=test_url)\n",
    "response.status_code"
   ]
  },
  {
   "cell_type": "code",
   "execution_count": 6,
   "id": "3e9c5165",
   "metadata": {},
   "outputs": [],
   "source": [
    "soup = BeautifulSoup(response.content, 'html.parser')"
   ]
  },
  {
   "cell_type": "code",
   "execution_count": 9,
   "id": "6731dd0f",
   "metadata": {},
   "outputs": [
    {
     "data": {
      "text/plain": [
       "<div class=\"search-list\">\n",
       "<div class=\"row\">\n",
       "<div class=\"col-md-6\">\n",
       "<a class=\"filter-radio\" href=\"/medisch-pedicurepraktijk\">(Medisch) Pedicurepraktijk <span class=\"filter-radio__counter\">(5031)</span></a>\n",
       "<a class=\"filter-radio\" href=\"/abortuskliniek\">Abortuskliniek <span class=\"filter-radio__counter\">(18)</span></a>\n",
       "<a class=\"filter-radio\" href=\"/apotheek\">Apotheek <span class=\"filter-radio__counter\">(1945)</span></a>\n",
       "<a class=\"filter-radio\" href=\"/arbo-en-reintegratiebedrijf\">Arbo- en reïntegratiebedrijf <span class=\"filter-radio__counter\">(531)</span></a>\n",
       "<a class=\"filter-radio\" href=\"/artsenpraktijk-voor-alternatieve-geneeskunde\">Artsenpraktijk voor alternatieve geneeskunde <span class=\"filter-radio__counter\">(392)</span></a>\n",
       "<a class=\"filter-radio\" href=\"/astmacentrum\">Astmacentrum <span class=\"filter-radio__counter\">(5)</span></a>\n",
       "<a class=\"filter-radio\" href=\"/audiologisch-centrum\">Audiologisch centrum <span class=\"filter-radio__counter\">(45)</span></a>\n",
       "<a class=\"filter-radio\" href=\"/belangenorganisatie\">Belangenorganisatie <span class=\"filter-radio__counter\">(39)</span></a>\n",
       "<a class=\"filter-radio\" href=\"/besnijdeniscentrum\">Besnijdeniscentrum <span class=\"filter-radio__counter\">(42)</span></a>\n",
       "<a class=\"filter-radio\" href=\"/bevolkingsonderzoek-kanker\">Bevolkingsonderzoek kanker <span class=\"filter-radio__counter\">(5)</span></a>\n",
       "<a class=\"filter-radio\" href=\"/bloedbank\">Bloedbank <span class=\"filter-radio__counter\">(12)</span></a>\n",
       "<a class=\"filter-radio\" href=\"/brandwondencentrum\">Brandwondencentrum <span class=\"filter-radio__counter\">(3)</span></a>\n",
       "<a class=\"filter-radio\" href=\"/cardiologiecentrum\">Cardiologiecentrum <span class=\"filter-radio__counter\">(56)</span></a>\n",
       "<a class=\"filter-radio\" href=\"/centrum-voor-bijzondere-tandheelkunde\">Centrum voor bijzondere tandheelkunde <span class=\"filter-radio__counter\">(29)</span></a>\n",
       "<a class=\"filter-radio\" href=\"/dagbesteding-voor-mensen-met-een-beperking\">Dagbesteding voor mensen met een beperking <span class=\"filter-radio__counter\">(852)</span></a>\n",
       "<a class=\"filter-radio\" href=\"/diagnostisch-centrum\">Diagnostisch centrum <span class=\"filter-radio__counter\">(67)</span></a>\n",
       "<a class=\"filter-radio\" href=\"/dialysecentrum\">Dialysecentrum <span class=\"filter-radio__counter\">(92)</span></a>\n",
       "<a class=\"filter-radio\" href=\"/dietistenpraktijk\">Diëtistenpraktijk <span class=\"filter-radio__counter\">(3665)</span></a>\n",
       "<a class=\"filter-radio\" href=\"/echocentrum\">Echocentrum <span class=\"filter-radio__counter\">(103)</span></a>\n",
       "<a class=\"filter-radio\" href=\"/epilepsiekliniek\">Epilepsiekliniek <span class=\"filter-radio__counter\">(26)</span></a>\n",
       "<a class=\"filter-radio\" href=\"/ergotherapiepraktijk\">Ergotherapiepraktijk <span class=\"filter-radio__counter\">(816)</span></a>\n",
       "<a class=\"filter-radio\" href=\"/forensisch-centrum\">Forensisch centrum <span class=\"filter-radio__counter\">(70)</span></a>\n",
       "<a class=\"filter-radio\" href=\"/fysiotherapiepraktijk\">Fysiotherapiepraktijk <span class=\"filter-radio__counter\">(9959)</span></a>\n",
       "<a class=\"filter-radio\" href=\"/ggd\">GGD <span class=\"filter-radio__counter\">(65)</span></a>\n",
       "<a class=\"filter-radio\" href=\"/ggz\">GGZ <span class=\"filter-radio__counter\">(2100)</span></a>\n",
       "<a class=\"filter-radio\" href=\"/geriatrische-revalidatiezorg\">Geriatrische revalidatiezorg <span class=\"filter-radio__counter\">(155)</span></a>\n",
       "<a class=\"filter-radio\" href=\"/hospice\">Hospice <span class=\"filter-radio__counter\">(192)</span></a>\n",
       "<a class=\"filter-radio\" href=\"/huidtherapiepraktijk\">Huidtherapiepraktijk <span class=\"filter-radio__counter\">(721)</span></a>\n",
       "<a class=\"filter-radio\" href=\"/huisartsenpost\">Huisartsenpost <span class=\"filter-radio__counter\">(108)</span></a>\n",
       "<a class=\"filter-radio\" href=\"/huisartsenpraktijk\">Huisartsenpraktijk <span class=\"filter-radio__counter\">(4831)</span></a>\n",
       "<a class=\"filter-radio\" href=\"/ivf-kliniek\">IVF-kliniek <span class=\"filter-radio__counter\">(9)</span></a>\n",
       "<a class=\"filter-radio\" href=\"/jeugdgezondheidszorg\">Jeugdgezondheidszorg <span class=\"filter-radio__counter\">(164)</span></a>\n",
       "<a class=\"filter-radio\" href=\"/jeugdzorg\">Jeugdzorg <span class=\"filter-radio__counter\">(356)</span></a>\n",
       "<a class=\"filter-radio\" href=\"/kankercentrum\">Kankercentrum <span class=\"filter-radio__counter\">(3)</span></a>\n",
       "<a class=\"filter-radio\" href=\"/kraamzorg\">Kraamzorg <span class=\"filter-radio__counter\">(1192)</span></a>\n",
       "<a class=\"filter-radio\" href=\"/logopediepraktijk\">Logopediepraktijk <span class=\"filter-radio__counter\">(3070)</span></a>\n",
       "<a class=\"filter-radio\" href=\"/medisch-hulpmiddel\">Medisch hulpmiddel <span class=\"filter-radio__counter\">(991)</span></a>\n",
       "<a class=\"filter-radio\" href=\"/medische-kindzorg\">Medische kindzorg <span class=\"filter-radio__counter\">(62)</span></a>\n",
       "<a class=\"filter-radio\" href=\"/mondhygienistenpraktijk\">Mondhygiënistenpraktijk <span class=\"filter-radio__counter\">(727)</span></a>\n",
       "</div>\n",
       "<div class=\"col-md-6\">\n",
       "<a class=\"filter-radio\" href=\"/oefentherapiepraktijk\">Oefentherapiepraktijk <span class=\"filter-radio__counter\">(1350)</span></a>\n",
       "<a class=\"filter-radio\" href=\"/optometriepraktijk\">Optometriepraktijk <span class=\"filter-radio__counter\">(112)</span></a>\n",
       "<a class=\"filter-radio\" href=\"/orthodontiepraktijk\">Orthodontiepraktijk <span class=\"filter-radio__counter\">(342)</span></a>\n",
       "<a class=\"filter-radio\" href=\"/orthoptistenpraktijk\">Orthoptistenpraktijk <span class=\"filter-radio__counter\">(7)</span></a>\n",
       "<a class=\"filter-radio\" href=\"/overige-zorg-en-ondersteuning-voor-mensen-met-een-beperking\">Overige zorg en ondersteuning voor mensen met een beperking <span class=\"filter-radio__counter\">(912)</span></a>\n",
       "<a class=\"filter-radio\" href=\"/particulier-woonzorgcentrum\">Particulier woonzorgcentrum <span class=\"filter-radio__counter\">(628)</span></a>\n",
       "<a class=\"filter-radio\" href=\"/patientenorganisatie\">Patiëntenorganisatie <span class=\"filter-radio__counter\">(295)</span></a>\n",
       "<a class=\"filter-radio\" href=\"/podologiepraktijk\">Podologiepraktijk <span class=\"filter-radio__counter\">(340)</span></a>\n",
       "<a class=\"filter-radio\" href=\"/podotherapiepraktijk\">Podotherapiepraktijk <span class=\"filter-radio__counter\">(2050)</span></a>\n",
       "<a class=\"filter-radio\" href=\"/psychiatriepraktijk\">Psychiatriepraktijk <span class=\"filter-radio__counter\">(357)</span></a>\n",
       "<a class=\"filter-radio\" href=\"/psycho-oncologisch-centrum\">Psycho-oncologisch centrum <span class=\"filter-radio__counter\">(18)</span></a>\n",
       "<a class=\"filter-radio\" href=\"/psychologiepraktijk-en-psychotherapiepraktijk\">Psychologiepraktijk en psychotherapiepraktijk <span class=\"filter-radio__counter\">(3536)</span></a>\n",
       "<a class=\"filter-radio\" href=\"/revalidatiecentrum\">Revalidatiecentrum <span class=\"filter-radio__counter\">(233)</span></a>\n",
       "<a class=\"filter-radio\" href=\"/tandartsenpraktijk\">Tandartsenpraktijk <span class=\"filter-radio__counter\">(4634)</span></a>\n",
       "<a class=\"filter-radio\" href=\"/tandprothetische-praktijk\">Tandprothetische praktijk <span class=\"filter-radio__counter\">(344)</span></a>\n",
       "<a class=\"filter-radio\" href=\"/trombosedienst\">Trombosedienst <span class=\"filter-radio__counter\">(44)</span></a>\n",
       "<a class=\"filter-radio\" href=\"/verloskundepraktijk\">Verloskundepraktijk <span class=\"filter-radio__counter\">(1134)</span></a>\n",
       "<a class=\"filter-radio\" href=\"/verpleeghuis-en-verzorgingshuis\">Verpleeghuis en verzorgingshuis <span class=\"filter-radio__counter\">(2358)</span></a>\n",
       "<a class=\"filter-radio\" href=\"/verslavingszorg\">Verslavingszorg <span class=\"filter-radio__counter\">(262)</span></a>\n",
       "<a class=\"filter-radio\" href=\"/wijkverpleging\">Wijkverpleging <span class=\"filter-radio__counter\">(4523)</span></a>\n",
       "<a class=\"filter-radio\" href=\"/wonen-voor-mensen-met-een-beperking\">Wonen voor mensen met een beperking <span class=\"filter-radio__counter\">(2948)</span></a>\n",
       "<a class=\"filter-radio\" href=\"/ziekenhuis-en-kliniek\">Ziekenhuis en kliniek <span class=\"filter-radio__counter\">(1595)</span></a>\n",
       "<div class=\"ms-4\">\n",
       "<a class=\"filter-radio\" href=\"/centrum-voor-eetstoornissen\">Centrum voor eetstoornissen <span class=\"filter-radio__counter\">(22)</span></a>\n",
       "</div>\n",
       "<div class=\"ms-4\">\n",
       "<a class=\"filter-radio\" href=\"/centrum-voor-orthopedie-en-beweging\">Centrum voor orthopedie en beweging <span class=\"filter-radio__counter\">(77)</span></a>\n",
       "</div>\n",
       "<div class=\"ms-4\">\n",
       "<a class=\"filter-radio\" href=\"/dermatologisch-centrum\">Dermatologisch centrum <span class=\"filter-radio__counter\">(95)</span></a>\n",
       "</div>\n",
       "<div class=\"ms-4\">\n",
       "<a class=\"filter-radio\" href=\"/esthetisch-medisch-centrum\">Esthetisch-medisch centrum <span class=\"filter-radio__counter\">(312)</span></a>\n",
       "</div>\n",
       "<div class=\"ms-4\">\n",
       "<a class=\"filter-radio\" href=\"/flebologiecentrum\">Flebologiecentrum <span class=\"filter-radio__counter\">(10)</span></a>\n",
       "</div>\n",
       "<div class=\"ms-4\">\n",
       "<a class=\"filter-radio\" href=\"/handcentrum-en-polscentrum\">Handcentrum en polscentrum <span class=\"filter-radio__counter\">(65)</span></a>\n",
       "</div>\n",
       "<div class=\"ms-4\">\n",
       "<a class=\"filter-radio\" href=\"/oogkliniek\">Oogkliniek <span class=\"filter-radio__counter\">(128)</span></a>\n",
       "</div>\n",
       "<div class=\"ms-4\">\n",
       "<a class=\"filter-radio\" href=\"/overige-kliniek\">Overige kliniek <span class=\"filter-radio__counter\">(494)</span></a>\n",
       "</div>\n",
       "<div class=\"ms-4\">\n",
       "<a class=\"filter-radio\" href=\"/pijncentrum\">Pijncentrum <span class=\"filter-radio__counter\">(20)</span></a>\n",
       "</div>\n",
       "<div class=\"ms-4\">\n",
       "<a class=\"filter-radio\" href=\"/radiotherapeutisch-centrum\">Radiotherapeutisch centrum <span class=\"filter-radio__counter\">(17)</span></a>\n",
       "</div>\n",
       "<div class=\"ms-4\">\n",
       "<a class=\"filter-radio\" href=\"/sportmedisch-centrum\">Sportmedisch centrum <span class=\"filter-radio__counter\">(63)</span></a>\n",
       "</div>\n",
       "<div class=\"ms-4\">\n",
       "<a class=\"filter-radio\" href=\"/ziekenhuis\">Ziekenhuis <span class=\"filter-radio__counter\">(292)</span></a>\n",
       "</div>\n",
       "<a class=\"filter-radio\" href=\"/zorgaanbieder-overig\">Zorgaanbieder overig <span class=\"filter-radio__counter\">(448)</span></a>\n",
       "<a class=\"filter-radio\" href=\"/zorghotel\">Zorghotel <span class=\"filter-radio__counter\">(54)</span></a>\n",
       "<a class=\"filter-radio\" href=\"/zorgkantoor\">Zorgkantoor <span class=\"filter-radio__counter\">(37)</span></a>\n",
       "<a class=\"filter-radio\" href=\"/zorgverzekeraar\">Zorgverzekeraar <span class=\"filter-radio__counter\">(44)</span></a>\n",
       "</div>\n",
       "</div>\n",
       "</div>"
      ]
     },
     "execution_count": 9,
     "metadata": {},
     "output_type": "execute_result"
    }
   ],
   "source": [
    "search_list = soup.find('div', class_='search-list')\n",
    "search_list"
   ]
  },
  {
   "cell_type": "code",
   "execution_count": 31,
   "id": "4f58612c",
   "metadata": {},
   "outputs": [
    {
     "data": {
      "text/plain": [
       "[<div class=\"col-md-6\">\n",
       " <a class=\"filter-radio\" href=\"/medisch-pedicurepraktijk\">(Medisch) Pedicurepraktijk <span class=\"filter-radio__counter\">(5031)</span></a>\n",
       " <a class=\"filter-radio\" href=\"/abortuskliniek\">Abortuskliniek <span class=\"filter-radio__counter\">(18)</span></a>\n",
       " <a class=\"filter-radio\" href=\"/apotheek\">Apotheek <span class=\"filter-radio__counter\">(1945)</span></a>\n",
       " <a class=\"filter-radio\" href=\"/arbo-en-reintegratiebedrijf\">Arbo- en reïntegratiebedrijf <span class=\"filter-radio__counter\">(531)</span></a>\n",
       " <a class=\"filter-radio\" href=\"/artsenpraktijk-voor-alternatieve-geneeskunde\">Artsenpraktijk voor alternatieve geneeskunde <span class=\"filter-radio__counter\">(392)</span></a>\n",
       " <a class=\"filter-radio\" href=\"/astmacentrum\">Astmacentrum <span class=\"filter-radio__counter\">(5)</span></a>\n",
       " <a class=\"filter-radio\" href=\"/audiologisch-centrum\">Audiologisch centrum <span class=\"filter-radio__counter\">(45)</span></a>\n",
       " <a class=\"filter-radio\" href=\"/belangenorganisatie\">Belangenorganisatie <span class=\"filter-radio__counter\">(39)</span></a>\n",
       " <a class=\"filter-radio\" href=\"/besnijdeniscentrum\">Besnijdeniscentrum <span class=\"filter-radio__counter\">(42)</span></a>\n",
       " <a class=\"filter-radio\" href=\"/bevolkingsonderzoek-kanker\">Bevolkingsonderzoek kanker <span class=\"filter-radio__counter\">(5)</span></a>\n",
       " <a class=\"filter-radio\" href=\"/bloedbank\">Bloedbank <span class=\"filter-radio__counter\">(12)</span></a>\n",
       " <a class=\"filter-radio\" href=\"/brandwondencentrum\">Brandwondencentrum <span class=\"filter-radio__counter\">(3)</span></a>\n",
       " <a class=\"filter-radio\" href=\"/cardiologiecentrum\">Cardiologiecentrum <span class=\"filter-radio__counter\">(56)</span></a>\n",
       " <a class=\"filter-radio\" href=\"/centrum-voor-bijzondere-tandheelkunde\">Centrum voor bijzondere tandheelkunde <span class=\"filter-radio__counter\">(29)</span></a>\n",
       " <a class=\"filter-radio\" href=\"/dagbesteding-voor-mensen-met-een-beperking\">Dagbesteding voor mensen met een beperking <span class=\"filter-radio__counter\">(852)</span></a>\n",
       " <a class=\"filter-radio\" href=\"/diagnostisch-centrum\">Diagnostisch centrum <span class=\"filter-radio__counter\">(67)</span></a>\n",
       " <a class=\"filter-radio\" href=\"/dialysecentrum\">Dialysecentrum <span class=\"filter-radio__counter\">(92)</span></a>\n",
       " <a class=\"filter-radio\" href=\"/dietistenpraktijk\">Diëtistenpraktijk <span class=\"filter-radio__counter\">(3665)</span></a>\n",
       " <a class=\"filter-radio\" href=\"/echocentrum\">Echocentrum <span class=\"filter-radio__counter\">(103)</span></a>\n",
       " <a class=\"filter-radio\" href=\"/epilepsiekliniek\">Epilepsiekliniek <span class=\"filter-radio__counter\">(26)</span></a>\n",
       " <a class=\"filter-radio\" href=\"/ergotherapiepraktijk\">Ergotherapiepraktijk <span class=\"filter-radio__counter\">(816)</span></a>\n",
       " <a class=\"filter-radio\" href=\"/forensisch-centrum\">Forensisch centrum <span class=\"filter-radio__counter\">(70)</span></a>\n",
       " <a class=\"filter-radio\" href=\"/fysiotherapiepraktijk\">Fysiotherapiepraktijk <span class=\"filter-radio__counter\">(9959)</span></a>\n",
       " <a class=\"filter-radio\" href=\"/ggd\">GGD <span class=\"filter-radio__counter\">(65)</span></a>\n",
       " <a class=\"filter-radio\" href=\"/ggz\">GGZ <span class=\"filter-radio__counter\">(2100)</span></a>\n",
       " <a class=\"filter-radio\" href=\"/geriatrische-revalidatiezorg\">Geriatrische revalidatiezorg <span class=\"filter-radio__counter\">(155)</span></a>\n",
       " <a class=\"filter-radio\" href=\"/hospice\">Hospice <span class=\"filter-radio__counter\">(192)</span></a>\n",
       " <a class=\"filter-radio\" href=\"/huidtherapiepraktijk\">Huidtherapiepraktijk <span class=\"filter-radio__counter\">(721)</span></a>\n",
       " <a class=\"filter-radio\" href=\"/huisartsenpost\">Huisartsenpost <span class=\"filter-radio__counter\">(108)</span></a>\n",
       " <a class=\"filter-radio\" href=\"/huisartsenpraktijk\">Huisartsenpraktijk <span class=\"filter-radio__counter\">(4831)</span></a>\n",
       " <a class=\"filter-radio\" href=\"/ivf-kliniek\">IVF-kliniek <span class=\"filter-radio__counter\">(9)</span></a>\n",
       " <a class=\"filter-radio\" href=\"/jeugdgezondheidszorg\">Jeugdgezondheidszorg <span class=\"filter-radio__counter\">(164)</span></a>\n",
       " <a class=\"filter-radio\" href=\"/jeugdzorg\">Jeugdzorg <span class=\"filter-radio__counter\">(356)</span></a>\n",
       " <a class=\"filter-radio\" href=\"/kankercentrum\">Kankercentrum <span class=\"filter-radio__counter\">(3)</span></a>\n",
       " <a class=\"filter-radio\" href=\"/kraamzorg\">Kraamzorg <span class=\"filter-radio__counter\">(1192)</span></a>\n",
       " <a class=\"filter-radio\" href=\"/logopediepraktijk\">Logopediepraktijk <span class=\"filter-radio__counter\">(3070)</span></a>\n",
       " <a class=\"filter-radio\" href=\"/medisch-hulpmiddel\">Medisch hulpmiddel <span class=\"filter-radio__counter\">(991)</span></a>\n",
       " <a class=\"filter-radio\" href=\"/medische-kindzorg\">Medische kindzorg <span class=\"filter-radio__counter\">(62)</span></a>\n",
       " <a class=\"filter-radio\" href=\"/mondhygienistenpraktijk\">Mondhygiënistenpraktijk <span class=\"filter-radio__counter\">(727)</span></a>\n",
       " </div>,\n",
       " <div class=\"col-md-6\">\n",
       " <a class=\"filter-radio\" href=\"/oefentherapiepraktijk\">Oefentherapiepraktijk <span class=\"filter-radio__counter\">(1350)</span></a>\n",
       " <a class=\"filter-radio\" href=\"/optometriepraktijk\">Optometriepraktijk <span class=\"filter-radio__counter\">(112)</span></a>\n",
       " <a class=\"filter-radio\" href=\"/orthodontiepraktijk\">Orthodontiepraktijk <span class=\"filter-radio__counter\">(342)</span></a>\n",
       " <a class=\"filter-radio\" href=\"/orthoptistenpraktijk\">Orthoptistenpraktijk <span class=\"filter-radio__counter\">(7)</span></a>\n",
       " <a class=\"filter-radio\" href=\"/overige-zorg-en-ondersteuning-voor-mensen-met-een-beperking\">Overige zorg en ondersteuning voor mensen met een beperking <span class=\"filter-radio__counter\">(912)</span></a>\n",
       " <a class=\"filter-radio\" href=\"/particulier-woonzorgcentrum\">Particulier woonzorgcentrum <span class=\"filter-radio__counter\">(628)</span></a>\n",
       " <a class=\"filter-radio\" href=\"/patientenorganisatie\">Patiëntenorganisatie <span class=\"filter-radio__counter\">(295)</span></a>\n",
       " <a class=\"filter-radio\" href=\"/podologiepraktijk\">Podologiepraktijk <span class=\"filter-radio__counter\">(340)</span></a>\n",
       " <a class=\"filter-radio\" href=\"/podotherapiepraktijk\">Podotherapiepraktijk <span class=\"filter-radio__counter\">(2050)</span></a>\n",
       " <a class=\"filter-radio\" href=\"/psychiatriepraktijk\">Psychiatriepraktijk <span class=\"filter-radio__counter\">(357)</span></a>\n",
       " <a class=\"filter-radio\" href=\"/psycho-oncologisch-centrum\">Psycho-oncologisch centrum <span class=\"filter-radio__counter\">(18)</span></a>\n",
       " <a class=\"filter-radio\" href=\"/psychologiepraktijk-en-psychotherapiepraktijk\">Psychologiepraktijk en psychotherapiepraktijk <span class=\"filter-radio__counter\">(3536)</span></a>\n",
       " <a class=\"filter-radio\" href=\"/revalidatiecentrum\">Revalidatiecentrum <span class=\"filter-radio__counter\">(233)</span></a>\n",
       " <a class=\"filter-radio\" href=\"/tandartsenpraktijk\">Tandartsenpraktijk <span class=\"filter-radio__counter\">(4634)</span></a>\n",
       " <a class=\"filter-radio\" href=\"/tandprothetische-praktijk\">Tandprothetische praktijk <span class=\"filter-radio__counter\">(344)</span></a>\n",
       " <a class=\"filter-radio\" href=\"/trombosedienst\">Trombosedienst <span class=\"filter-radio__counter\">(44)</span></a>\n",
       " <a class=\"filter-radio\" href=\"/verloskundepraktijk\">Verloskundepraktijk <span class=\"filter-radio__counter\">(1134)</span></a>\n",
       " <a class=\"filter-radio\" href=\"/verpleeghuis-en-verzorgingshuis\">Verpleeghuis en verzorgingshuis <span class=\"filter-radio__counter\">(2358)</span></a>\n",
       " <a class=\"filter-radio\" href=\"/verslavingszorg\">Verslavingszorg <span class=\"filter-radio__counter\">(262)</span></a>\n",
       " <a class=\"filter-radio\" href=\"/wijkverpleging\">Wijkverpleging <span class=\"filter-radio__counter\">(4523)</span></a>\n",
       " <a class=\"filter-radio\" href=\"/wonen-voor-mensen-met-een-beperking\">Wonen voor mensen met een beperking <span class=\"filter-radio__counter\">(2948)</span></a>\n",
       " <a class=\"filter-radio\" href=\"/ziekenhuis-en-kliniek\">Ziekenhuis en kliniek <span class=\"filter-radio__counter\">(1595)</span></a>\n",
       " <div class=\"ms-4\">\n",
       " <a class=\"filter-radio\" href=\"/centrum-voor-eetstoornissen\">Centrum voor eetstoornissen <span class=\"filter-radio__counter\">(22)</span></a>\n",
       " </div>\n",
       " <div class=\"ms-4\">\n",
       " <a class=\"filter-radio\" href=\"/centrum-voor-orthopedie-en-beweging\">Centrum voor orthopedie en beweging <span class=\"filter-radio__counter\">(77)</span></a>\n",
       " </div>\n",
       " <div class=\"ms-4\">\n",
       " <a class=\"filter-radio\" href=\"/dermatologisch-centrum\">Dermatologisch centrum <span class=\"filter-radio__counter\">(95)</span></a>\n",
       " </div>\n",
       " <div class=\"ms-4\">\n",
       " <a class=\"filter-radio\" href=\"/esthetisch-medisch-centrum\">Esthetisch-medisch centrum <span class=\"filter-radio__counter\">(312)</span></a>\n",
       " </div>\n",
       " <div class=\"ms-4\">\n",
       " <a class=\"filter-radio\" href=\"/flebologiecentrum\">Flebologiecentrum <span class=\"filter-radio__counter\">(10)</span></a>\n",
       " </div>\n",
       " <div class=\"ms-4\">\n",
       " <a class=\"filter-radio\" href=\"/handcentrum-en-polscentrum\">Handcentrum en polscentrum <span class=\"filter-radio__counter\">(65)</span></a>\n",
       " </div>\n",
       " <div class=\"ms-4\">\n",
       " <a class=\"filter-radio\" href=\"/oogkliniek\">Oogkliniek <span class=\"filter-radio__counter\">(128)</span></a>\n",
       " </div>\n",
       " <div class=\"ms-4\">\n",
       " <a class=\"filter-radio\" href=\"/overige-kliniek\">Overige kliniek <span class=\"filter-radio__counter\">(494)</span></a>\n",
       " </div>\n",
       " <div class=\"ms-4\">\n",
       " <a class=\"filter-radio\" href=\"/pijncentrum\">Pijncentrum <span class=\"filter-radio__counter\">(20)</span></a>\n",
       " </div>\n",
       " <div class=\"ms-4\">\n",
       " <a class=\"filter-radio\" href=\"/radiotherapeutisch-centrum\">Radiotherapeutisch centrum <span class=\"filter-radio__counter\">(17)</span></a>\n",
       " </div>\n",
       " <div class=\"ms-4\">\n",
       " <a class=\"filter-radio\" href=\"/sportmedisch-centrum\">Sportmedisch centrum <span class=\"filter-radio__counter\">(63)</span></a>\n",
       " </div>\n",
       " <div class=\"ms-4\">\n",
       " <a class=\"filter-radio\" href=\"/ziekenhuis\">Ziekenhuis <span class=\"filter-radio__counter\">(292)</span></a>\n",
       " </div>\n",
       " <a class=\"filter-radio\" href=\"/zorgaanbieder-overig\">Zorgaanbieder overig <span class=\"filter-radio__counter\">(448)</span></a>\n",
       " <a class=\"filter-radio\" href=\"/zorghotel\">Zorghotel <span class=\"filter-radio__counter\">(54)</span></a>\n",
       " <a class=\"filter-radio\" href=\"/zorgkantoor\">Zorgkantoor <span class=\"filter-radio__counter\">(37)</span></a>\n",
       " <a class=\"filter-radio\" href=\"/zorgverzekeraar\">Zorgverzekeraar <span class=\"filter-radio__counter\">(44)</span></a>\n",
       " </div>]"
      ]
     },
     "execution_count": 31,
     "metadata": {},
     "output_type": "execute_result"
    }
   ],
   "source": [
    "result_list = search_list.find_all('div', class_='col-md-6')\n",
    "result_list"
   ]
  },
  {
   "cell_type": "code",
   "execution_count": 32,
   "id": "2b118fe7",
   "metadata": {},
   "outputs": [
    {
     "data": {
      "text/plain": [
       "2"
      ]
     },
     "execution_count": 32,
     "metadata": {},
     "output_type": "execute_result"
    }
   ],
   "source": [
    "len(result_list)"
   ]
  },
  {
   "cell_type": "code",
   "execution_count": 13,
   "id": "0f2b52b8",
   "metadata": {},
   "outputs": [],
   "source": [
    "results = []\n",
    "\n",
    "for item in result_list:\n",
    "    results.extend(item)"
   ]
  },
  {
   "cell_type": "code",
   "execution_count": 14,
   "id": "22f66e54",
   "metadata": {},
   "outputs": [
    {
     "data": {
      "text/plain": [
       "156"
      ]
     },
     "execution_count": 14,
     "metadata": {},
     "output_type": "execute_result"
    }
   ],
   "source": [
    "len(results)"
   ]
  },
  {
   "cell_type": "code",
   "execution_count": 22,
   "id": "ac81b01d",
   "metadata": {},
   "outputs": [
    {
     "data": {
      "text/plain": [
       "'medisch-pedicurepraktijk'"
      ]
     },
     "execution_count": 22,
     "metadata": {},
     "output_type": "execute_result"
    }
   ],
   "source": [
    "test_item.get('href')[1:]"
   ]
  },
  {
   "cell_type": "code",
   "execution_count": 37,
   "id": "ad9bf123",
   "metadata": {},
   "outputs": [
    {
     "data": {
      "text/plain": [
       "[<a class=\"filter-radio\" href=\"/medisch-pedicurepraktijk\">(Medisch) Pedicurepraktijk <span class=\"filter-radio__counter\">(5031)</span></a>,\n",
       " <a class=\"filter-radio\" href=\"/abortuskliniek\">Abortuskliniek <span class=\"filter-radio__counter\">(18)</span></a>,\n",
       " <a class=\"filter-radio\" href=\"/apotheek\">Apotheek <span class=\"filter-radio__counter\">(1945)</span></a>,\n",
       " <a class=\"filter-radio\" href=\"/arbo-en-reintegratiebedrijf\">Arbo- en reïntegratiebedrijf <span class=\"filter-radio__counter\">(531)</span></a>,\n",
       " <a class=\"filter-radio\" href=\"/artsenpraktijk-voor-alternatieve-geneeskunde\">Artsenpraktijk voor alternatieve geneeskunde <span class=\"filter-radio__counter\">(392)</span></a>,\n",
       " <a class=\"filter-radio\" href=\"/astmacentrum\">Astmacentrum <span class=\"filter-radio__counter\">(5)</span></a>,\n",
       " <a class=\"filter-radio\" href=\"/audiologisch-centrum\">Audiologisch centrum <span class=\"filter-radio__counter\">(45)</span></a>,\n",
       " <a class=\"filter-radio\" href=\"/belangenorganisatie\">Belangenorganisatie <span class=\"filter-radio__counter\">(39)</span></a>,\n",
       " <a class=\"filter-radio\" href=\"/besnijdeniscentrum\">Besnijdeniscentrum <span class=\"filter-radio__counter\">(42)</span></a>,\n",
       " <a class=\"filter-radio\" href=\"/bevolkingsonderzoek-kanker\">Bevolkingsonderzoek kanker <span class=\"filter-radio__counter\">(5)</span></a>,\n",
       " <a class=\"filter-radio\" href=\"/bloedbank\">Bloedbank <span class=\"filter-radio__counter\">(12)</span></a>,\n",
       " <a class=\"filter-radio\" href=\"/brandwondencentrum\">Brandwondencentrum <span class=\"filter-radio__counter\">(3)</span></a>,\n",
       " <a class=\"filter-radio\" href=\"/cardiologiecentrum\">Cardiologiecentrum <span class=\"filter-radio__counter\">(56)</span></a>,\n",
       " <a class=\"filter-radio\" href=\"/centrum-voor-bijzondere-tandheelkunde\">Centrum voor bijzondere tandheelkunde <span class=\"filter-radio__counter\">(29)</span></a>,\n",
       " <a class=\"filter-radio\" href=\"/dagbesteding-voor-mensen-met-een-beperking\">Dagbesteding voor mensen met een beperking <span class=\"filter-radio__counter\">(852)</span></a>,\n",
       " <a class=\"filter-radio\" href=\"/diagnostisch-centrum\">Diagnostisch centrum <span class=\"filter-radio__counter\">(67)</span></a>,\n",
       " <a class=\"filter-radio\" href=\"/dialysecentrum\">Dialysecentrum <span class=\"filter-radio__counter\">(92)</span></a>,\n",
       " <a class=\"filter-radio\" href=\"/dietistenpraktijk\">Diëtistenpraktijk <span class=\"filter-radio__counter\">(3665)</span></a>,\n",
       " <a class=\"filter-radio\" href=\"/echocentrum\">Echocentrum <span class=\"filter-radio__counter\">(103)</span></a>,\n",
       " <a class=\"filter-radio\" href=\"/epilepsiekliniek\">Epilepsiekliniek <span class=\"filter-radio__counter\">(26)</span></a>,\n",
       " <a class=\"filter-radio\" href=\"/ergotherapiepraktijk\">Ergotherapiepraktijk <span class=\"filter-radio__counter\">(816)</span></a>,\n",
       " <a class=\"filter-radio\" href=\"/forensisch-centrum\">Forensisch centrum <span class=\"filter-radio__counter\">(70)</span></a>,\n",
       " <a class=\"filter-radio\" href=\"/fysiotherapiepraktijk\">Fysiotherapiepraktijk <span class=\"filter-radio__counter\">(9959)</span></a>,\n",
       " <a class=\"filter-radio\" href=\"/ggd\">GGD <span class=\"filter-radio__counter\">(65)</span></a>,\n",
       " <a class=\"filter-radio\" href=\"/ggz\">GGZ <span class=\"filter-radio__counter\">(2100)</span></a>,\n",
       " <a class=\"filter-radio\" href=\"/geriatrische-revalidatiezorg\">Geriatrische revalidatiezorg <span class=\"filter-radio__counter\">(155)</span></a>,\n",
       " <a class=\"filter-radio\" href=\"/hospice\">Hospice <span class=\"filter-radio__counter\">(192)</span></a>,\n",
       " <a class=\"filter-radio\" href=\"/huidtherapiepraktijk\">Huidtherapiepraktijk <span class=\"filter-radio__counter\">(721)</span></a>,\n",
       " <a class=\"filter-radio\" href=\"/huisartsenpost\">Huisartsenpost <span class=\"filter-radio__counter\">(108)</span></a>,\n",
       " <a class=\"filter-radio\" href=\"/huisartsenpraktijk\">Huisartsenpraktijk <span class=\"filter-radio__counter\">(4831)</span></a>,\n",
       " <a class=\"filter-radio\" href=\"/ivf-kliniek\">IVF-kliniek <span class=\"filter-radio__counter\">(9)</span></a>,\n",
       " <a class=\"filter-radio\" href=\"/jeugdgezondheidszorg\">Jeugdgezondheidszorg <span class=\"filter-radio__counter\">(164)</span></a>,\n",
       " <a class=\"filter-radio\" href=\"/jeugdzorg\">Jeugdzorg <span class=\"filter-radio__counter\">(356)</span></a>,\n",
       " <a class=\"filter-radio\" href=\"/kankercentrum\">Kankercentrum <span class=\"filter-radio__counter\">(3)</span></a>,\n",
       " <a class=\"filter-radio\" href=\"/kraamzorg\">Kraamzorg <span class=\"filter-radio__counter\">(1192)</span></a>,\n",
       " <a class=\"filter-radio\" href=\"/logopediepraktijk\">Logopediepraktijk <span class=\"filter-radio__counter\">(3070)</span></a>,\n",
       " <a class=\"filter-radio\" href=\"/medisch-hulpmiddel\">Medisch hulpmiddel <span class=\"filter-radio__counter\">(991)</span></a>,\n",
       " <a class=\"filter-radio\" href=\"/medische-kindzorg\">Medische kindzorg <span class=\"filter-radio__counter\">(62)</span></a>,\n",
       " <a class=\"filter-radio\" href=\"/mondhygienistenpraktijk\">Mondhygiënistenpraktijk <span class=\"filter-radio__counter\">(727)</span></a>,\n",
       " <a class=\"filter-radio\" href=\"/oefentherapiepraktijk\">Oefentherapiepraktijk <span class=\"filter-radio__counter\">(1350)</span></a>,\n",
       " <a class=\"filter-radio\" href=\"/optometriepraktijk\">Optometriepraktijk <span class=\"filter-radio__counter\">(112)</span></a>,\n",
       " <a class=\"filter-radio\" href=\"/orthodontiepraktijk\">Orthodontiepraktijk <span class=\"filter-radio__counter\">(342)</span></a>,\n",
       " <a class=\"filter-radio\" href=\"/orthoptistenpraktijk\">Orthoptistenpraktijk <span class=\"filter-radio__counter\">(7)</span></a>,\n",
       " <a class=\"filter-radio\" href=\"/overige-zorg-en-ondersteuning-voor-mensen-met-een-beperking\">Overige zorg en ondersteuning voor mensen met een beperking <span class=\"filter-radio__counter\">(912)</span></a>,\n",
       " <a class=\"filter-radio\" href=\"/particulier-woonzorgcentrum\">Particulier woonzorgcentrum <span class=\"filter-radio__counter\">(628)</span></a>,\n",
       " <a class=\"filter-radio\" href=\"/patientenorganisatie\">Patiëntenorganisatie <span class=\"filter-radio__counter\">(295)</span></a>,\n",
       " <a class=\"filter-radio\" href=\"/podologiepraktijk\">Podologiepraktijk <span class=\"filter-radio__counter\">(340)</span></a>,\n",
       " <a class=\"filter-radio\" href=\"/podotherapiepraktijk\">Podotherapiepraktijk <span class=\"filter-radio__counter\">(2050)</span></a>,\n",
       " <a class=\"filter-radio\" href=\"/psychiatriepraktijk\">Psychiatriepraktijk <span class=\"filter-radio__counter\">(357)</span></a>,\n",
       " <a class=\"filter-radio\" href=\"/psycho-oncologisch-centrum\">Psycho-oncologisch centrum <span class=\"filter-radio__counter\">(18)</span></a>,\n",
       " <a class=\"filter-radio\" href=\"/psychologiepraktijk-en-psychotherapiepraktijk\">Psychologiepraktijk en psychotherapiepraktijk <span class=\"filter-radio__counter\">(3536)</span></a>,\n",
       " <a class=\"filter-radio\" href=\"/revalidatiecentrum\">Revalidatiecentrum <span class=\"filter-radio__counter\">(233)</span></a>,\n",
       " <a class=\"filter-radio\" href=\"/tandartsenpraktijk\">Tandartsenpraktijk <span class=\"filter-radio__counter\">(4634)</span></a>,\n",
       " <a class=\"filter-radio\" href=\"/tandprothetische-praktijk\">Tandprothetische praktijk <span class=\"filter-radio__counter\">(344)</span></a>,\n",
       " <a class=\"filter-radio\" href=\"/trombosedienst\">Trombosedienst <span class=\"filter-radio__counter\">(44)</span></a>,\n",
       " <a class=\"filter-radio\" href=\"/verloskundepraktijk\">Verloskundepraktijk <span class=\"filter-radio__counter\">(1134)</span></a>,\n",
       " <a class=\"filter-radio\" href=\"/verpleeghuis-en-verzorgingshuis\">Verpleeghuis en verzorgingshuis <span class=\"filter-radio__counter\">(2358)</span></a>,\n",
       " <a class=\"filter-radio\" href=\"/verslavingszorg\">Verslavingszorg <span class=\"filter-radio__counter\">(262)</span></a>,\n",
       " <a class=\"filter-radio\" href=\"/wijkverpleging\">Wijkverpleging <span class=\"filter-radio__counter\">(4523)</span></a>,\n",
       " <a class=\"filter-radio\" href=\"/wonen-voor-mensen-met-een-beperking\">Wonen voor mensen met een beperking <span class=\"filter-radio__counter\">(2948)</span></a>,\n",
       " <a class=\"filter-radio\" href=\"/ziekenhuis-en-kliniek\">Ziekenhuis en kliniek <span class=\"filter-radio__counter\">(1595)</span></a>,\n",
       " <a class=\"filter-radio\" href=\"/zorgaanbieder-overig\">Zorgaanbieder overig <span class=\"filter-radio__counter\">(448)</span></a>,\n",
       " <a class=\"filter-radio\" href=\"/zorghotel\">Zorghotel <span class=\"filter-radio__counter\">(54)</span></a>,\n",
       " <a class=\"filter-radio\" href=\"/zorgkantoor\">Zorgkantoor <span class=\"filter-radio__counter\">(37)</span></a>,\n",
       " <a class=\"filter-radio\" href=\"/zorgverzekeraar\">Zorgverzekeraar <span class=\"filter-radio__counter\">(44)</span></a>]"
      ]
     },
     "execution_count": 37,
     "metadata": {},
     "output_type": "execute_result"
    }
   ],
   "source": [
    "results = [result for result in results if '\\n' not in result]\n",
    "results"
   ]
  },
  {
   "cell_type": "code",
   "execution_count": 38,
   "id": "8c6c951d",
   "metadata": {},
   "outputs": [],
   "source": [
    "facilities = []\n",
    "\n",
    "for res in results:\n",
    "    facility = res.get('href')[1:]\n",
    "    facilities.append(facility)"
   ]
  },
  {
   "cell_type": "code",
   "execution_count": 39,
   "id": "235322dd",
   "metadata": {},
   "outputs": [
    {
     "data": {
      "text/plain": [
       "['medisch-pedicurepraktijk',\n",
       " 'abortuskliniek',\n",
       " 'apotheek',\n",
       " 'arbo-en-reintegratiebedrijf',\n",
       " 'artsenpraktijk-voor-alternatieve-geneeskunde',\n",
       " 'astmacentrum',\n",
       " 'audiologisch-centrum',\n",
       " 'belangenorganisatie',\n",
       " 'besnijdeniscentrum',\n",
       " 'bevolkingsonderzoek-kanker',\n",
       " 'bloedbank',\n",
       " 'brandwondencentrum',\n",
       " 'cardiologiecentrum',\n",
       " 'centrum-voor-bijzondere-tandheelkunde',\n",
       " 'dagbesteding-voor-mensen-met-een-beperking',\n",
       " 'diagnostisch-centrum',\n",
       " 'dialysecentrum',\n",
       " 'dietistenpraktijk',\n",
       " 'echocentrum',\n",
       " 'epilepsiekliniek',\n",
       " 'ergotherapiepraktijk',\n",
       " 'forensisch-centrum',\n",
       " 'fysiotherapiepraktijk',\n",
       " 'ggd',\n",
       " 'ggz',\n",
       " 'geriatrische-revalidatiezorg',\n",
       " 'hospice',\n",
       " 'huidtherapiepraktijk',\n",
       " 'huisartsenpost',\n",
       " 'huisartsenpraktijk',\n",
       " 'ivf-kliniek',\n",
       " 'jeugdgezondheidszorg',\n",
       " 'jeugdzorg',\n",
       " 'kankercentrum',\n",
       " 'kraamzorg',\n",
       " 'logopediepraktijk',\n",
       " 'medisch-hulpmiddel',\n",
       " 'medische-kindzorg',\n",
       " 'mondhygienistenpraktijk',\n",
       " 'oefentherapiepraktijk',\n",
       " 'optometriepraktijk',\n",
       " 'orthodontiepraktijk',\n",
       " 'orthoptistenpraktijk',\n",
       " 'overige-zorg-en-ondersteuning-voor-mensen-met-een-beperking',\n",
       " 'particulier-woonzorgcentrum',\n",
       " 'patientenorganisatie',\n",
       " 'podologiepraktijk',\n",
       " 'podotherapiepraktijk',\n",
       " 'psychiatriepraktijk',\n",
       " 'psycho-oncologisch-centrum',\n",
       " 'psychologiepraktijk-en-psychotherapiepraktijk',\n",
       " 'revalidatiecentrum',\n",
       " 'tandartsenpraktijk',\n",
       " 'tandprothetische-praktijk',\n",
       " 'trombosedienst',\n",
       " 'verloskundepraktijk',\n",
       " 'verpleeghuis-en-verzorgingshuis',\n",
       " 'verslavingszorg',\n",
       " 'wijkverpleging',\n",
       " 'wonen-voor-mensen-met-een-beperking',\n",
       " 'ziekenhuis-en-kliniek',\n",
       " 'zorgaanbieder-overig',\n",
       " 'zorghotel',\n",
       " 'zorgkantoor',\n",
       " 'zorgverzekeraar']"
      ]
     },
     "execution_count": 39,
     "metadata": {},
     "output_type": "execute_result"
    }
   ],
   "source": [
    "facilities"
   ]
  },
  {
   "cell_type": "code",
   "execution_count": 40,
   "id": "fcb58ba6",
   "metadata": {},
   "outputs": [],
   "source": [
    "import pandas as pd"
   ]
  },
  {
   "cell_type": "code",
   "execution_count": 41,
   "id": "a292f6c8",
   "metadata": {},
   "outputs": [
    {
     "data": {
      "text/html": [
       "<div>\n",
       "<style scoped>\n",
       "    .dataframe tbody tr th:only-of-type {\n",
       "        vertical-align: middle;\n",
       "    }\n",
       "\n",
       "    .dataframe tbody tr th {\n",
       "        vertical-align: top;\n",
       "    }\n",
       "\n",
       "    .dataframe thead th {\n",
       "        text-align: right;\n",
       "    }\n",
       "</style>\n",
       "<table border=\"1\" class=\"dataframe\">\n",
       "  <thead>\n",
       "    <tr style=\"text-align: right;\">\n",
       "      <th></th>\n",
       "      <th>Facility</th>\n",
       "    </tr>\n",
       "  </thead>\n",
       "  <tbody>\n",
       "    <tr>\n",
       "      <th>0</th>\n",
       "      <td>medisch-pedicurepraktijk</td>\n",
       "    </tr>\n",
       "    <tr>\n",
       "      <th>1</th>\n",
       "      <td>abortuskliniek</td>\n",
       "    </tr>\n",
       "    <tr>\n",
       "      <th>2</th>\n",
       "      <td>apotheek</td>\n",
       "    </tr>\n",
       "    <tr>\n",
       "      <th>3</th>\n",
       "      <td>arbo-en-reintegratiebedrijf</td>\n",
       "    </tr>\n",
       "    <tr>\n",
       "      <th>4</th>\n",
       "      <td>artsenpraktijk-voor-alternatieve-geneeskunde</td>\n",
       "    </tr>\n",
       "    <tr>\n",
       "      <th>...</th>\n",
       "      <td>...</td>\n",
       "    </tr>\n",
       "    <tr>\n",
       "      <th>60</th>\n",
       "      <td>ziekenhuis-en-kliniek</td>\n",
       "    </tr>\n",
       "    <tr>\n",
       "      <th>61</th>\n",
       "      <td>zorgaanbieder-overig</td>\n",
       "    </tr>\n",
       "    <tr>\n",
       "      <th>62</th>\n",
       "      <td>zorghotel</td>\n",
       "    </tr>\n",
       "    <tr>\n",
       "      <th>63</th>\n",
       "      <td>zorgkantoor</td>\n",
       "    </tr>\n",
       "    <tr>\n",
       "      <th>64</th>\n",
       "      <td>zorgverzekeraar</td>\n",
       "    </tr>\n",
       "  </tbody>\n",
       "</table>\n",
       "<p>65 rows × 1 columns</p>\n",
       "</div>"
      ],
      "text/plain": [
       "                                        Facility\n",
       "0                       medisch-pedicurepraktijk\n",
       "1                                 abortuskliniek\n",
       "2                                       apotheek\n",
       "3                    arbo-en-reintegratiebedrijf\n",
       "4   artsenpraktijk-voor-alternatieve-geneeskunde\n",
       "..                                           ...\n",
       "60                         ziekenhuis-en-kliniek\n",
       "61                          zorgaanbieder-overig\n",
       "62                                     zorghotel\n",
       "63                                   zorgkantoor\n",
       "64                               zorgverzekeraar\n",
       "\n",
       "[65 rows x 1 columns]"
      ]
     },
     "execution_count": 41,
     "metadata": {},
     "output_type": "execute_result"
    }
   ],
   "source": [
    "pd.DataFrame(data=facilities, columns=['Facility'])"
   ]
  }
 ],
 "metadata": {
  "kernelspec": {
   "display_name": "Python 3",
   "language": "python",
   "name": "python3"
  },
  "language_info": {
   "codemirror_mode": {
    "name": "ipython",
    "version": 3
   },
   "file_extension": ".py",
   "mimetype": "text/x-python",
   "name": "python",
   "nbconvert_exporter": "python",
   "pygments_lexer": "ipython3",
   "version": "3.12.6"
  }
 },
 "nbformat": 4,
 "nbformat_minor": 5
}
