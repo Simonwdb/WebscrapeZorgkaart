{
 "cells": [
  {
   "cell_type": "code",
   "execution_count": 9,
   "id": "bc5a708b",
   "metadata": {},
   "outputs": [
    {
     "name": "stdout",
     "output_type": "stream",
     "text": [
      "The autoreload extension is already loaded. To reload it, use:\n",
      "  %reload_ext autoreload\n"
     ]
    }
   ],
   "source": [
    "%load_ext autoreload\n",
    "%autoreload 2"
   ]
  },
  {
   "cell_type": "code",
   "execution_count": 112,
   "id": "af04faa1",
   "metadata": {},
   "outputs": [],
   "source": [
    "import requests\n",
    "from bs4 import BeautifulSoup\n",
    "import json\n",
    "import re\n",
    "from typing import Tuple, Optional, List\n",
    "import pandas as pd\n",
    "import time"
   ]
  },
  {
   "cell_type": "code",
   "execution_count": 10,
   "id": "5545a698",
   "metadata": {},
   "outputs": [],
   "source": [
    "from Webscrape import Webscrape"
   ]
  },
  {
   "cell_type": "code",
   "execution_count": 11,
   "id": "06895070",
   "metadata": {},
   "outputs": [],
   "source": [
    "base_url: str = 'https://www.zorgkaartnederland.nl'"
   ]
  },
  {
   "cell_type": "code",
   "execution_count": 12,
   "id": "b68883a3",
   "metadata": {},
   "outputs": [],
   "source": [
    "facility: str = 'tandartsenpraktijk'"
   ]
  },
  {
   "cell_type": "code",
   "execution_count": 13,
   "id": "d5aa1119",
   "metadata": {},
   "outputs": [],
   "source": [
    "scrape = Webscrape(base_url=base_url)"
   ]
  },
  {
   "cell_type": "code",
   "execution_count": 30,
   "id": "22c6b434",
   "metadata": {},
   "outputs": [
    {
     "data": {
      "text/plain": [
       "232"
      ]
     },
     "execution_count": 30,
     "metadata": {},
     "output_type": "execute_result"
    }
   ],
   "source": [
    "scrape.get_page_total(facility=facility)"
   ]
  },
  {
   "cell_type": "code",
   "execution_count": 14,
   "id": "ecdfb14b",
   "metadata": {},
   "outputs": [],
   "source": [
    "results = scrape.get_filter_result(facility=facility)"
   ]
  },
  {
   "cell_type": "code",
   "execution_count": 31,
   "id": "df2e313c",
   "metadata": {},
   "outputs": [
    {
     "data": {
      "text/plain": [
       "{'Dent-S': 'https://www.zorgkaartnederland.nl/zorginstelling/tandartsenpraktijk-dent-s-amsterdam-3033585',\n",
       " 'MondCleanic, Center for Dental Excellence': 'https://www.zorgkaartnederland.nl/zorginstelling/tandartsenpraktijk-mondcleanic-center-for-dental-excellence-noordwijk-3045043',\n",
       " 'Tridenzo mondzorg': 'https://www.zorgkaartnederland.nl/zorginstelling/tandartsenpraktijk-tridenzo-mondzorg-breda-3058852',\n",
       " \"Tandheelkundig Centrum 't Veld\": 'https://www.zorgkaartnederland.nl/zorginstelling/tandartsenpraktijk-tandheelkundig-centrum-t-veld-t-veld-3040694',\n",
       " 'Praktijk voor Endodontologie Bussum': 'https://www.zorgkaartnederland.nl/zorginstelling/tandartsenpraktijk-praktijk-voor-endodontologie-bussum-bussum-3036956',\n",
       " 'Ittmann Tandartsen': 'https://www.zorgkaartnederland.nl/zorginstelling/tandartsenpraktijk-ittmann-tandartsen-velp-3043194',\n",
       " 'TandartsCraanen.nl': 'https://www.zorgkaartnederland.nl/zorginstelling/tandartsenpraktijk-tandartscraanen-nl-ubbena-3020937',\n",
       " 'Tandartsenpraktijk Quist': 'https://www.zorgkaartnederland.nl/zorginstelling/tandartsenpraktijk-tandartsenpraktijk-quist-hoogvliet-181907',\n",
       " 'Dentalmind Tandartspraktijk': 'https://www.zorgkaartnederland.nl/zorginstelling/tandartsenpraktijk-dentalmind-tandartspraktijk-zoetermeer-3033409',\n",
       " 'MondInzicht': 'https://www.zorgkaartnederland.nl/zorginstelling/tandartsenpraktijk-mondinzicht-vianen-183977',\n",
       " 'GAAF Mondzorg': 'https://www.zorgkaartnederland.nl/zorginstelling/tandartsenpraktijk-gaaf-mondzorg-enschede-208915',\n",
       " 'Verwijspraktijk voor Endodontologie EndoNoordkop': 'https://www.zorgkaartnederland.nl/zorginstelling/tandartsenpraktijk-verwijspraktijk-voor-endodontologie-endonoordkop-julianadorp-10008772',\n",
       " 'Tandartspraktijk Rijsenhout': 'https://www.zorgkaartnederland.nl/zorginstelling/tandartsenpraktijk-tandartspraktijk-rijsenhout-rijsenhout-180966',\n",
       " 'Mondzorgpraktijk Nijmegen': 'https://www.zorgkaartnederland.nl/zorginstelling/tandartsenpraktijk-mondzorgpraktijk-nijmegen-nijmegen-225830',\n",
       " 'De Gebitskliniek': 'https://www.zorgkaartnederland.nl/zorginstelling/tandartsenpraktijk-de-gebitskliniek-sliedrecht-3058268',\n",
       " 'Den Bergh Tandartsen': 'https://www.zorgkaartnederland.nl/zorginstelling/tandartsenpraktijk-den-bergh-tandartsen-soesterberg-10016295',\n",
       " 'Implantologie Utrecht': 'https://www.zorgkaartnederland.nl/zorginstelling/tandartsenpraktijk-implantologie-utrecht-utrecht-3051796',\n",
       " 'Endogooi, praktijk voor endodontologie': 'https://www.zorgkaartnederland.nl/zorginstelling/tandartsenpraktijk-endogooi-praktijk-voor-endodontologie-bussum-3042711',\n",
       " 'Tandartspraktijk Martin Levie': 'https://www.zorgkaartnederland.nl/zorginstelling/tandartsenpraktijk-tandartspraktijk-martin-levie-haarlem-3043164',\n",
       " 'Zaans Tandheelkundig Centrum': 'https://www.zorgkaartnederland.nl/zorginstelling/tandartsenpraktijk-zaans-tandheelkundig-centrum-zaandam-10011351'}"
      ]
     },
     "execution_count": 31,
     "metadata": {},
     "output_type": "execute_result"
    }
   ],
   "source": [
    "dict_result = scrape.get_filter_links(results=results)\n",
    "dict_result"
   ]
  },
  {
   "cell_type": "code",
   "execution_count": 106,
   "id": "e540d2bd",
   "metadata": {},
   "outputs": [],
   "source": [
    "facility_url = dict_result.get('Dent-S')"
   ]
  },
  {
   "cell_type": "code",
   "execution_count": 108,
   "id": "c2011606",
   "metadata": {},
   "outputs": [
    {
     "data": {
      "text/plain": [
       "{'plaats': 'Amsterdam',\n",
       " 'postcode': '1079 HW',\n",
       " 'straat': 'Rijnstraat',\n",
       " 'huisnummer': '246',\n",
       " 'toevoeging': 'H'}"
      ]
     },
     "execution_count": 108,
     "metadata": {},
     "output_type": "execute_result"
    }
   ],
   "source": [
    "facility_info = scrape.get_facility_info(facility_url=facility_url)\n",
    "facility_info"
   ]
  },
  {
   "cell_type": "markdown",
   "id": "888f134f",
   "metadata": {},
   "source": [
    "## Debug"
   ]
  },
  {
   "cell_type": "code",
   "execution_count": 111,
   "id": "19c085b7",
   "metadata": {},
   "outputs": [
    {
     "data": {
      "text/plain": [
       "{'Dent-S': 'https://www.zorgkaartnederland.nl/zorginstelling/tandartsenpraktijk-dent-s-amsterdam-3033585',\n",
       " 'MondCleanic, Center for Dental Excellence': 'https://www.zorgkaartnederland.nl/zorginstelling/tandartsenpraktijk-mondcleanic-center-for-dental-excellence-noordwijk-3045043',\n",
       " 'Tridenzo mondzorg': 'https://www.zorgkaartnederland.nl/zorginstelling/tandartsenpraktijk-tridenzo-mondzorg-breda-3058852',\n",
       " \"Tandheelkundig Centrum 't Veld\": 'https://www.zorgkaartnederland.nl/zorginstelling/tandartsenpraktijk-tandheelkundig-centrum-t-veld-t-veld-3040694',\n",
       " 'Praktijk voor Endodontologie Bussum': 'https://www.zorgkaartnederland.nl/zorginstelling/tandartsenpraktijk-praktijk-voor-endodontologie-bussum-bussum-3036956',\n",
       " 'Ittmann Tandartsen': 'https://www.zorgkaartnederland.nl/zorginstelling/tandartsenpraktijk-ittmann-tandartsen-velp-3043194',\n",
       " 'TandartsCraanen.nl': 'https://www.zorgkaartnederland.nl/zorginstelling/tandartsenpraktijk-tandartscraanen-nl-ubbena-3020937',\n",
       " 'Tandartsenpraktijk Quist': 'https://www.zorgkaartnederland.nl/zorginstelling/tandartsenpraktijk-tandartsenpraktijk-quist-hoogvliet-181907',\n",
       " 'Dentalmind Tandartspraktijk': 'https://www.zorgkaartnederland.nl/zorginstelling/tandartsenpraktijk-dentalmind-tandartspraktijk-zoetermeer-3033409',\n",
       " 'MondInzicht': 'https://www.zorgkaartnederland.nl/zorginstelling/tandartsenpraktijk-mondinzicht-vianen-183977',\n",
       " 'GAAF Mondzorg': 'https://www.zorgkaartnederland.nl/zorginstelling/tandartsenpraktijk-gaaf-mondzorg-enschede-208915',\n",
       " 'Verwijspraktijk voor Endodontologie EndoNoordkop': 'https://www.zorgkaartnederland.nl/zorginstelling/tandartsenpraktijk-verwijspraktijk-voor-endodontologie-endonoordkop-julianadorp-10008772',\n",
       " 'Tandartspraktijk Rijsenhout': 'https://www.zorgkaartnederland.nl/zorginstelling/tandartsenpraktijk-tandartspraktijk-rijsenhout-rijsenhout-180966',\n",
       " 'Mondzorgpraktijk Nijmegen': 'https://www.zorgkaartnederland.nl/zorginstelling/tandartsenpraktijk-mondzorgpraktijk-nijmegen-nijmegen-225830',\n",
       " 'De Gebitskliniek': 'https://www.zorgkaartnederland.nl/zorginstelling/tandartsenpraktijk-de-gebitskliniek-sliedrecht-3058268',\n",
       " 'Den Bergh Tandartsen': 'https://www.zorgkaartnederland.nl/zorginstelling/tandartsenpraktijk-den-bergh-tandartsen-soesterberg-10016295',\n",
       " 'Implantologie Utrecht': 'https://www.zorgkaartnederland.nl/zorginstelling/tandartsenpraktijk-implantologie-utrecht-utrecht-3051796',\n",
       " 'Endogooi, praktijk voor endodontologie': 'https://www.zorgkaartnederland.nl/zorginstelling/tandartsenpraktijk-endogooi-praktijk-voor-endodontologie-bussum-3042711',\n",
       " 'Tandartspraktijk Martin Levie': 'https://www.zorgkaartnederland.nl/zorginstelling/tandartsenpraktijk-tandartspraktijk-martin-levie-haarlem-3043164',\n",
       " 'Zaans Tandheelkundig Centrum': 'https://www.zorgkaartnederland.nl/zorginstelling/tandartsenpraktijk-zaans-tandheelkundig-centrum-zaandam-10011351'}"
      ]
     },
     "execution_count": 111,
     "metadata": {},
     "output_type": "execute_result"
    }
   ],
   "source": [
    "dict_result"
   ]
  },
  {
   "cell_type": "code",
   "execution_count": 117,
   "id": "d95855a1",
   "metadata": {},
   "outputs": [
    {
     "name": "stdout",
     "output_type": "stream",
     "text": [
      "Naam: Dent-S\n",
      "    info_dict: {'plaats': 'Amsterdam', 'postcode': '1079 HW', 'straat': 'Rijnstraat', 'huisnummer': '246', 'toevoeging': 'H'}\n",
      "Naam: MondCleanic, Center for Dental Excellence\n",
      "    info_dict: {'plaats': 'Noordwijk', 'postcode': '2201 HR', 'straat': 'Voorstraat', 'huisnummer': '107', 'toevoeging': None}\n",
      "Naam: Tridenzo mondzorg\n",
      "    info_dict: {'plaats': 'Breda', 'postcode': '4812 XT', 'straat': 'Vijfhagen', 'huisnummer': '43', 'toevoeging': None}\n",
      "Naam: Tandheelkundig Centrum 't Veld\n",
      "    info_dict: {'plaats': \"'t Veld\", 'postcode': '1735 HK', 'straat': 'Dreef', 'huisnummer': '2', 'toevoeging': 'A'}\n",
      "Naam: Praktijk voor Endodontologie Bussum\n",
      "    info_dict: {'plaats': 'Bussum', 'postcode': '1404 JA', 'straat': 'Wilhelminaplantsoen', 'huisnummer': '15', 'toevoeging': None}\n",
      "Naam: Ittmann Tandartsen\n",
      "    info_dict: {'plaats': 'Velp', 'postcode': '6881 VM', 'straat': 'President Kennedylaan', 'huisnummer': '1', 'toevoeging': 'A'}\n",
      "Naam: TandartsCraanen.nl\n",
      "    info_dict: {'plaats': 'Ubbena', 'postcode': '9492 TB', 'straat': 'Asserstraat', 'huisnummer': '118', 'toevoeging': None}\n",
      "Naam: Tandartsenpraktijk Quist\n",
      "    info_dict: {'plaats': 'Hoogvliet', 'postcode': '3191 KE', 'straat': 'Stelle', 'huisnummer': '26', 'toevoeging': None}\n",
      "Naam: Dentalmind Tandartspraktijk\n",
      "    info_dict: {'plaats': 'Zoetermeer', 'postcode': '2718 NS', 'straat': 'Paletsingel', 'huisnummer': '118', 'toevoeging': None}\n",
      "Naam: MondInzicht\n",
      "    info_dict: {'plaats': 'Vianen', 'postcode': '4133 AB', 'straat': 'Clarissenhof', 'huisnummer': '3', 'toevoeging': 'C'}\n",
      "Naam: GAAF Mondzorg\n",
      "    info_dict: {'plaats': 'Enschede', 'postcode': '7544 GG', 'straat': 'Vlierstraat', 'huisnummer': '111', 'toevoeging': None}\n",
      "Naam: Verwijspraktijk voor Endodontologie EndoNoordkop\n",
      "    info_dict: {'plaats': 'Julianadorp', 'postcode': '1787 BA', 'straat': 'Meester Daarnhouwerstraat', 'huisnummer': '1', 'toevoeging': None}\n",
      "Naam: Tandartspraktijk Rijsenhout\n",
      "    info_dict: {'plaats': 'Rijsenhout', 'postcode': '1435 KR', 'straat': 'Jolweg', 'huisnummer': '25', 'toevoeging': None}\n",
      "Naam: Mondzorgpraktijk Nijmegen\n",
      "    info_dict: {'plaats': 'Nijmegen', 'postcode': '6524 DB', 'straat': 'Groesbeekseweg', 'huisnummer': '20', 'toevoeging': None}\n",
      "Naam: De Gebitskliniek\n",
      "    info_dict: {'plaats': 'Sliedrecht', 'postcode': '3361 BE', 'straat': 'Kerkbuurt', 'huisnummer': '107', 'toevoeging': None}\n",
      "Naam: Den Bergh Tandartsen\n",
      "    info_dict: {'plaats': 'Soesterberg', 'postcode': '3769 GK', 'straat': 'Buys Ballotlaan', 'huisnummer': '21', 'toevoeging': None}\n",
      "Naam: Implantologie Utrecht\n",
      "    info_dict: {'plaats': 'Utrecht', 'postcode': '3526 JB', 'straat': 'Livingstonelaan', 'huisnummer': '466', 'toevoeging': None}\n",
      "Naam: Endogooi, praktijk voor endodontologie\n",
      "    info_dict: {'plaats': 'Bussum', 'postcode': '1401 RP', 'straat': 'Lammert Majoorlaan', 'huisnummer': '56', 'toevoeging': 'A'}\n",
      "Naam: Tandartspraktijk Martin Levie\n",
      "    info_dict: {'plaats': 'Haarlem', 'postcode': '2013 DD', 'straat': 'Zijlweg', 'huisnummer': '75', 'toevoeging': None}\n",
      "Naam: Zaans Tandheelkundig Centrum\n",
      "    info_dict: {'plaats': 'Zaandam', 'postcode': '1502 DV', 'straat': 'Koningin Julianaplein', 'huisnummer': '38', 'toevoeging': None}\n"
     ]
    }
   ],
   "source": [
    "result_list = []\n",
    "for name, url in dict_result.items():\n",
    "    temp_dict = {}\n",
    "    temp_dict['naam'] = name\n",
    "    temp_dict['type'] = facility\n",
    "    print(f'Naam: {name}')\n",
    "    info_dict = scrape.get_facility_info(facility_url=url)\n",
    "    print(f'    info_dict: {info_dict}')\n",
    "    temp_dict.update(info_dict)\n",
    "    result_list.append(temp_dict)\n",
    "    time.sleep(0.5)  "
   ]
  },
  {
   "cell_type": "code",
   "execution_count": 118,
   "id": "f7e4603c",
   "metadata": {},
   "outputs": [
    {
     "data": {
      "text/plain": [
       "[{'naam': 'Dent-S',\n",
       "  'type': 'tandartsenpraktijk',\n",
       "  'plaats': 'Amsterdam',\n",
       "  'postcode': '1079 HW',\n",
       "  'straat': 'Rijnstraat',\n",
       "  'huisnummer': '246',\n",
       "  'toevoeging': 'H'},\n",
       " {'naam': 'MondCleanic, Center for Dental Excellence',\n",
       "  'type': 'tandartsenpraktijk',\n",
       "  'plaats': 'Noordwijk',\n",
       "  'postcode': '2201 HR',\n",
       "  'straat': 'Voorstraat',\n",
       "  'huisnummer': '107',\n",
       "  'toevoeging': None},\n",
       " {'naam': 'Tridenzo mondzorg',\n",
       "  'type': 'tandartsenpraktijk',\n",
       "  'plaats': 'Breda',\n",
       "  'postcode': '4812 XT',\n",
       "  'straat': 'Vijfhagen',\n",
       "  'huisnummer': '43',\n",
       "  'toevoeging': None},\n",
       " {'naam': \"Tandheelkundig Centrum 't Veld\",\n",
       "  'type': 'tandartsenpraktijk',\n",
       "  'plaats': \"'t Veld\",\n",
       "  'postcode': '1735 HK',\n",
       "  'straat': 'Dreef',\n",
       "  'huisnummer': '2',\n",
       "  'toevoeging': 'A'},\n",
       " {'naam': 'Praktijk voor Endodontologie Bussum',\n",
       "  'type': 'tandartsenpraktijk',\n",
       "  'plaats': 'Bussum',\n",
       "  'postcode': '1404 JA',\n",
       "  'straat': 'Wilhelminaplantsoen',\n",
       "  'huisnummer': '15',\n",
       "  'toevoeging': None},\n",
       " {'naam': 'Ittmann Tandartsen',\n",
       "  'type': 'tandartsenpraktijk',\n",
       "  'plaats': 'Velp',\n",
       "  'postcode': '6881 VM',\n",
       "  'straat': 'President Kennedylaan',\n",
       "  'huisnummer': '1',\n",
       "  'toevoeging': 'A'},\n",
       " {'naam': 'TandartsCraanen.nl',\n",
       "  'type': 'tandartsenpraktijk',\n",
       "  'plaats': 'Ubbena',\n",
       "  'postcode': '9492 TB',\n",
       "  'straat': 'Asserstraat',\n",
       "  'huisnummer': '118',\n",
       "  'toevoeging': None},\n",
       " {'naam': 'Tandartsenpraktijk Quist',\n",
       "  'type': 'tandartsenpraktijk',\n",
       "  'plaats': 'Hoogvliet',\n",
       "  'postcode': '3191 KE',\n",
       "  'straat': 'Stelle',\n",
       "  'huisnummer': '26',\n",
       "  'toevoeging': None},\n",
       " {'naam': 'Dentalmind Tandartspraktijk',\n",
       "  'type': 'tandartsenpraktijk',\n",
       "  'plaats': 'Zoetermeer',\n",
       "  'postcode': '2718 NS',\n",
       "  'straat': 'Paletsingel',\n",
       "  'huisnummer': '118',\n",
       "  'toevoeging': None},\n",
       " {'naam': 'MondInzicht',\n",
       "  'type': 'tandartsenpraktijk',\n",
       "  'plaats': 'Vianen',\n",
       "  'postcode': '4133 AB',\n",
       "  'straat': 'Clarissenhof',\n",
       "  'huisnummer': '3',\n",
       "  'toevoeging': 'C'},\n",
       " {'naam': 'GAAF Mondzorg',\n",
       "  'type': 'tandartsenpraktijk',\n",
       "  'plaats': 'Enschede',\n",
       "  'postcode': '7544 GG',\n",
       "  'straat': 'Vlierstraat',\n",
       "  'huisnummer': '111',\n",
       "  'toevoeging': None},\n",
       " {'naam': 'Verwijspraktijk voor Endodontologie EndoNoordkop',\n",
       "  'type': 'tandartsenpraktijk',\n",
       "  'plaats': 'Julianadorp',\n",
       "  'postcode': '1787 BA',\n",
       "  'straat': 'Meester Daarnhouwerstraat',\n",
       "  'huisnummer': '1',\n",
       "  'toevoeging': None},\n",
       " {'naam': 'Tandartspraktijk Rijsenhout',\n",
       "  'type': 'tandartsenpraktijk',\n",
       "  'plaats': 'Rijsenhout',\n",
       "  'postcode': '1435 KR',\n",
       "  'straat': 'Jolweg',\n",
       "  'huisnummer': '25',\n",
       "  'toevoeging': None},\n",
       " {'naam': 'Mondzorgpraktijk Nijmegen',\n",
       "  'type': 'tandartsenpraktijk',\n",
       "  'plaats': 'Nijmegen',\n",
       "  'postcode': '6524 DB',\n",
       "  'straat': 'Groesbeekseweg',\n",
       "  'huisnummer': '20',\n",
       "  'toevoeging': None},\n",
       " {'naam': 'De Gebitskliniek',\n",
       "  'type': 'tandartsenpraktijk',\n",
       "  'plaats': 'Sliedrecht',\n",
       "  'postcode': '3361 BE',\n",
       "  'straat': 'Kerkbuurt',\n",
       "  'huisnummer': '107',\n",
       "  'toevoeging': None},\n",
       " {'naam': 'Den Bergh Tandartsen',\n",
       "  'type': 'tandartsenpraktijk',\n",
       "  'plaats': 'Soesterberg',\n",
       "  'postcode': '3769 GK',\n",
       "  'straat': 'Buys Ballotlaan',\n",
       "  'huisnummer': '21',\n",
       "  'toevoeging': None},\n",
       " {'naam': 'Implantologie Utrecht',\n",
       "  'type': 'tandartsenpraktijk',\n",
       "  'plaats': 'Utrecht',\n",
       "  'postcode': '3526 JB',\n",
       "  'straat': 'Livingstonelaan',\n",
       "  'huisnummer': '466',\n",
       "  'toevoeging': None},\n",
       " {'naam': 'Endogooi, praktijk voor endodontologie',\n",
       "  'type': 'tandartsenpraktijk',\n",
       "  'plaats': 'Bussum',\n",
       "  'postcode': '1401 RP',\n",
       "  'straat': 'Lammert Majoorlaan',\n",
       "  'huisnummer': '56',\n",
       "  'toevoeging': 'A'},\n",
       " {'naam': 'Tandartspraktijk Martin Levie',\n",
       "  'type': 'tandartsenpraktijk',\n",
       "  'plaats': 'Haarlem',\n",
       "  'postcode': '2013 DD',\n",
       "  'straat': 'Zijlweg',\n",
       "  'huisnummer': '75',\n",
       "  'toevoeging': None},\n",
       " {'naam': 'Zaans Tandheelkundig Centrum',\n",
       "  'type': 'tandartsenpraktijk',\n",
       "  'plaats': 'Zaandam',\n",
       "  'postcode': '1502 DV',\n",
       "  'straat': 'Koningin Julianaplein',\n",
       "  'huisnummer': '38',\n",
       "  'toevoeging': None}]"
      ]
     },
     "execution_count": 118,
     "metadata": {},
     "output_type": "execute_result"
    }
   ],
   "source": [
    "result_list"
   ]
  }
 ],
 "metadata": {
  "kernelspec": {
   "display_name": "Python 3",
   "language": "python",
   "name": "python3"
  },
  "language_info": {
   "codemirror_mode": {
    "name": "ipython",
    "version": 3
   },
   "file_extension": ".py",
   "mimetype": "text/x-python",
   "name": "python",
   "nbconvert_exporter": "python",
   "pygments_lexer": "ipython3",
   "version": "3.12.3"
  }
 },
 "nbformat": 4,
 "nbformat_minor": 5
}
